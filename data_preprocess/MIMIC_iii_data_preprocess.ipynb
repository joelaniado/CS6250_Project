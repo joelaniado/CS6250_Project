{
  "nbformat": 4,
  "nbformat_minor": 0,
  "metadata": {
    "colab": {
      "provenance": []
    },
    "kernelspec": {
      "name": "python3",
      "display_name": "Python 3"
    },
    "language_info": {
      "name": "python"
    }
  },
  "cells": [
    {
      "cell_type": "code",
      "execution_count": 1,
      "metadata": {
        "colab": {
          "base_uri": "https://localhost:8080/"
        },
        "id": "V2r-YDr9GTh_",
        "outputId": "af75580a-ff8c-4034-8763-a5962c078226"
      },
      "outputs": [
        {
          "output_type": "stream",
          "name": "stdout",
          "text": [
            "Mounted at /content/gdrive\n"
          ]
        }
      ],
      "source": [
        "from google.colab import drive\n",
        "drive.mount('/content/gdrive')"
      ]
    },
    {
      "cell_type": "code",
      "source": [
        "filepath = \"./gdrive/MyDrive/CSE6250project/\"\n",
        "# import os\n",
        "# os.listdir(filepath)"
      ],
      "metadata": {
        "id": "ZvaC0zbKGdkq"
      },
      "execution_count": 2,
      "outputs": []
    },
    {
      "cell_type": "markdown",
      "source": [
        "To access files from shared folder, add the shared folder as shortcut to your\n",
        "google drive\n",
        "\n",
        "see: https://stackoverflow.com/questions/54351852/accessing-shared-with-me-with-colab"
      ],
      "metadata": {
        "id": "jeIutkDc5mo1"
      }
    },
    {
      "cell_type": "code",
      "source": [
        "import pandas as pd\n",
        "import numpy as np\n",
        "import pickle\n",
        "from google.colab import files\n"
      ],
      "metadata": {
        "id": "DczfbvDxGh-G"
      },
      "execution_count": 3,
      "outputs": []
    },
    {
      "cell_type": "code",
      "source": [
        "df_admissions_original = pd.read_csv(filepath+'ADMISSIONS.csv')\n",
        "df_patients_original = pd.read_csv(filepath+'PATIENTS.csv')\n",
        "df_diagnoses_original = pd.read_csv(filepath+'DIAGNOSES_ICD.csv')"
      ],
      "metadata": {
        "id": "y-WvUYu0GjeW"
      },
      "execution_count": 4,
      "outputs": []
    },
    {
      "cell_type": "code",
      "source": [
        "df_admissions = df_admissions_original.copy()\n",
        "df_patients = df_patients_original.copy()\n",
        "df_diagnoses = df_diagnoses_original.copy()\n",
        "print(df_admissions.shape)\n",
        "print(df_patients.shape)\n",
        "print(df_diagnoses.shape)"
      ],
      "metadata": {
        "id": "aSpTOCe9LRYJ",
        "colab": {
          "base_uri": "https://localhost:8080/"
        },
        "outputId": "05b6c082-d303-47cd-a50f-c00b815763b6"
      },
      "execution_count": 5,
      "outputs": [
        {
          "output_type": "stream",
          "name": "stdout",
          "text": [
            "(58976, 19)\n",
            "(46520, 8)\n",
            "(651047, 5)\n"
          ]
        }
      ]
    },
    {
      "cell_type": "code",
      "source": [
        "# get the most recent admissions to label death\n",
        "newest_admissions = df_admissions.sort_values('ADMITTIME').groupby('SUBJECT_ID').tail(1)\n",
        "# add death label based on deathtime is/is not null\n",
        "newest_admissions['Mortality'] = np.where(newest_admissions['DEATHTIME'].isnull(), 0, 1)\n",
        "df_mortality = newest_admissions[['SUBJECT_ID', 'Mortality']]\n",
        "df_mortality = df_mortality.sort_values(by='SUBJECT_ID')\n",
        "print(df_mortality['Mortality'].value_counts())\n",
        "# df_mortality.to_csv('mortality_labels.csv', encoding='utf-8-sig')\n",
        "# files.download('mortality_labels.csv')"
      ],
      "metadata": {
        "id": "KeHQFeiPGmwR",
        "colab": {
          "base_uri": "https://localhost:8080/"
        },
        "outputId": "f0ac3102-c3f7-49e3-a7fe-1bd3f033d4ee"
      },
      "execution_count": 6,
      "outputs": [
        {
          "output_type": "stream",
          "name": "stdout",
          "text": [
            "0    40711\n",
            "1     5809\n",
            "Name: Mortality, dtype: int64\n"
          ]
        }
      ]
    },
    {
      "cell_type": "code",
      "source": [
        "# filter records with more than one visit\n",
        "admissions = df_admissions[['SUBJECT_ID', 'HADM_ID', 'ADMITTIME', 'DIAGNOSIS']]\n",
        "multi_visit_adm = admissions[admissions.groupby('SUBJECT_ID')['SUBJECT_ID'].transform('size') > 1]\n",
        "print('number of hospital admissions with more than one visit:')\n",
        "print(len(multi_visit_adm.index))\n",
        "print('number of readmissions:')\n",
        "print(len(multi_visit_adm['SUBJECT_ID'].unique()))"
      ],
      "metadata": {
        "id": "Mz4I9GGRT8VZ",
        "colab": {
          "base_uri": "https://localhost:8080/"
        },
        "outputId": "283e8afa-cb8b-4048-b427-195c6ee5cab6"
      },
      "execution_count": 7,
      "outputs": [
        {
          "output_type": "stream",
          "name": "stdout",
          "text": [
            "number of hospital admissions with more than one visit:\n",
            "19993\n",
            "number of readmissions:\n",
            "7537\n"
          ]
        }
      ]
    },
    {
      "cell_type": "code",
      "source": [
        "# Create mortality dataframe based on multi visits patients only\n",
        "multi_visit_patients = multi_visit_adm['SUBJECT_ID'].drop_duplicates()\n",
        "df_mortality = pd.merge(multi_visit_patients, df_mortality, on='SUBJECT_ID', how='left').dropna()\n",
        "print(df_mortality.shape)"
      ],
      "metadata": {
        "colab": {
          "base_uri": "https://localhost:8080/"
        },
        "id": "Kz0L-f7KfCOU",
        "outputId": "09d8ef50-bf74-46e7-c1d1-9b30cfa01c92"
      },
      "execution_count": 8,
      "outputs": [
        {
          "output_type": "stream",
          "name": "stdout",
          "text": [
            "(7537, 2)\n"
          ]
        }
      ]
    },
    {
      "cell_type": "code",
      "source": [
        "df_mortality.to_csv('multi_visit_mortality_labels.csv', encoding='utf-8-sig')\n",
        "files.download('multi_visit_mortality_labels.csv')"
      ],
      "metadata": {
        "colab": {
          "base_uri": "https://localhost:8080/",
          "height": 17
        },
        "id": "LEINgLzWmWeO",
        "outputId": "8edddd2e-48b5-4680-c87d-752e502c7759"
      },
      "execution_count": null,
      "outputs": [
        {
          "output_type": "display_data",
          "data": {
            "text/plain": [
              "<IPython.core.display.Javascript object>"
            ],
            "application/javascript": [
              "\n",
              "    async function download(id, filename, size) {\n",
              "      if (!google.colab.kernel.accessAllowed) {\n",
              "        return;\n",
              "      }\n",
              "      const div = document.createElement('div');\n",
              "      const label = document.createElement('label');\n",
              "      label.textContent = `Downloading \"${filename}\": `;\n",
              "      div.appendChild(label);\n",
              "      const progress = document.createElement('progress');\n",
              "      progress.max = size;\n",
              "      div.appendChild(progress);\n",
              "      document.body.appendChild(div);\n",
              "\n",
              "      const buffers = [];\n",
              "      let downloaded = 0;\n",
              "\n",
              "      const channel = await google.colab.kernel.comms.open(id);\n",
              "      // Send a message to notify the kernel that we're ready.\n",
              "      channel.send({})\n",
              "\n",
              "      for await (const message of channel.messages) {\n",
              "        // Send a message to notify the kernel that we're ready.\n",
              "        channel.send({})\n",
              "        if (message.buffers) {\n",
              "          for (const buffer of message.buffers) {\n",
              "            buffers.push(buffer);\n",
              "            downloaded += buffer.byteLength;\n",
              "            progress.value = downloaded;\n",
              "          }\n",
              "        }\n",
              "      }\n",
              "      const blob = new Blob(buffers, {type: 'application/binary'});\n",
              "      const a = document.createElement('a');\n",
              "      a.href = window.URL.createObjectURL(blob);\n",
              "      a.download = filename;\n",
              "      div.appendChild(a);\n",
              "      a.click();\n",
              "      div.remove();\n",
              "    }\n",
              "  "
            ]
          },
          "metadata": {}
        },
        {
          "output_type": "display_data",
          "data": {
            "text/plain": [
              "<IPython.core.display.Javascript object>"
            ],
            "application/javascript": [
              "download(\"download_4f78dcc4-1357-491b-a85b-e12bca163ce4\", \"multi_visit_mortality_labels.csv\", 95096)"
            ]
          },
          "metadata": {}
        }
      ]
    },
    {
      "cell_type": "code",
      "source": [
        "# icd-9 process\n",
        "# icd-9 with two digits after the point\n",
        "def convert_to_icd9(dxStr):\n",
        "    if dxStr.startswith('E'):\n",
        "        if len(dxStr) > 4:\n",
        "            return dxStr[:4] + '.' + dxStr[4:]\n",
        "        else:\n",
        "            return dxStr\n",
        "    else:\n",
        "        if len(dxStr) > 3:\n",
        "            return dxStr[:3] + '.' + dxStr[3:]\n",
        "        else:\n",
        "            return dxStr\n",
        "\n",
        "# icd-9 only first three digits\n",
        "def convert_to_3digit_icd9(dxStr):\n",
        "    if dxStr.startswith('E'):\n",
        "        if len(dxStr) > 4:\n",
        "            return dxStr[:4]\n",
        "        else:\n",
        "            return dxStr\n",
        "    else:\n",
        "        if len(dxStr) > 3:\n",
        "            return dxStr[:3]\n",
        "        else:\n",
        "            return dxStr\n",
        "# build a code map using unique icd9 codes\n",
        "def build_codemap(df_icd9, transform):\n",
        "\t\"\"\"\n",
        "\t:return: Dict of code map {main-digits of ICD9: unique feature ID}\n",
        "\t\"\"\"\n",
        "\tdf_digits = df_icd9['ICD9_CODE'].dropna().apply(transform)\n",
        "\tcodes = df_digits.unique()\n",
        "\tcodemap = dict(zip(codes, range(len(codes))))\n",
        "\treturn codemap\n"
      ],
      "metadata": {
        "id": "dKdE-Ag3Oern"
      },
      "execution_count": 9,
      "outputs": []
    },
    {
      "cell_type": "code",
      "source": [
        "# Merge the admisions table and diagnoses_icd table\n",
        "def merge_adm_diag(df_diagnoses, df_admissions, codemap, transform):\n",
        "  # Convert diagnosis code into unique feature ID.\n",
        "\tdf_diagnoses['ICD9_CODE_transformed'] = df_diagnoses['ICD9_CODE'].dropna().apply(transform)\n",
        "\tdf_diagnoses['featureID'] = df_diagnoses['ICD9_CODE_transformed'].map(codemap)\n",
        "\tdf_diagnoses = df_diagnoses.loc[df_diagnoses['featureID'].notnull()]\n",
        "\n",
        "  # Group the diagnosis codes for the same visit.\n",
        "\tdf_admissions = df_admissions[['SUBJECT_ID', 'HADM_ID', 'ADMITTIME']]\n",
        "\tdf_merge_diag = pd.merge(df_admissions, df_diagnoses, on=['SUBJECT_ID','HADM_ID'], how='left').dropna()\n",
        "\tdf_merge_diag['featureID'] = df_merge_diag['featureID'].astype(int)\n",
        "\treturn df_merge_diag"
      ],
      "metadata": {
        "id": "96UG06njAp7x"
      },
      "execution_count": 10,
      "outputs": []
    },
    {
      "cell_type": "code",
      "source": [
        "codemap = build_codemap(df_diagnoses, convert_to_icd9)\n",
        "# pickle.dump(codemap, open(\"mortality.codemap.train\", 'wb'), pickle.HIGHEST_PROTOCOL)\n",
        "# files.download('mortality.codemap.train')"
      ],
      "metadata": {
        "id": "vL7X3jnXrvJo"
      },
      "execution_count": 12,
      "outputs": []
    },
    {
      "cell_type": "code",
      "source": [
        "df_merge_adm_diag = merge_adm_diag(df_diagnoses, multi_visit_adm, codemap, convert_to_icd9)\n",
        "# df_merge_adm_diag.to_csv('admissions_diagnoses_merge.csv', encoding='utf-8-sig')\n",
        "# files.download('admissions_diagnoses_merge.csv')\n",
        "print('number of diagnoses:')\n",
        "print(len(df_merge_adm_diag.index))\n",
        "print('number of unique ICD9 codes:')\n",
        "print(len(df_merge_adm_diag['ICD9_CODE_transformed'].unique()))"
      ],
      "metadata": {
        "id": "9Cjj4HK3BJ5I",
        "colab": {
          "base_uri": "https://localhost:8080/"
        },
        "outputId": "085ac4b0-6b9a-4530-c573-8da5d7ab225b"
      },
      "execution_count": 13,
      "outputs": [
        {
          "output_type": "stream",
          "name": "stdout",
          "text": [
            "number of diagnoses:\n",
            "260282\n",
            "number of unique ICD9 codes:\n",
            "4893\n"
          ]
        },
        {
          "output_type": "stream",
          "name": "stderr",
          "text": [
            "<ipython-input-10-0d832fac7f0f>:11: SettingWithCopyWarning: \n",
            "A value is trying to be set on a copy of a slice from a DataFrame.\n",
            "Try using .loc[row_indexer,col_indexer] = value instead\n",
            "\n",
            "See the caveats in the documentation: https://pandas.pydata.org/pandas-docs/stable/user_guide/indexing.html#returning-a-view-versus-a-copy\n",
            "  df_merge_diag['featureID'] = df_merge_diag['featureID'].astype(int)\n"
          ]
        }
      ]
    },
    {
      "cell_type": "code",
      "source": [
        "print(len(df_merge_adm_diag['SUBJECT_ID'].unique()))"
      ],
      "metadata": {
        "colab": {
          "base_uri": "https://localhost:8080/"
        },
        "id": "DLzkVcDzZ1zv",
        "outputId": "694c1b42-f295-480b-f7d5-a2dfacb2c74b"
      },
      "execution_count": 14,
      "outputs": [
        {
          "output_type": "stream",
          "name": "stdout",
          "text": [
            "7537\n"
          ]
        }
      ]
    },
    {
      "cell_type": "code",
      "source": [
        "# Extract heart failure dataset with diagnoses of 428.x code\n",
        "heart_code = df_merge_adm_diag['ICD9_CODE'].str.startswith('428')\n",
        "def heart_failure_filter(df_merge_adm_diag):\n",
        "    new_df = df_merge_adm_diag.loc[heart_code].copy()\n",
        "    # first time the diagnoses appear\n",
        "    new_df = new_df.groupby('SUBJECT_ID').first()\n",
        "    new_df = new_df.reset_index()\n",
        "    return new_df\n",
        "heart_failure_dataset = heart_failure_filter(df_merge_adm_diag)\n",
        "print('Heart failure dataset number of patients:')\n",
        "print(len(heart_failure_dataset['SUBJECT_ID'].unique()))\n",
        "# Create heart failure labels\n",
        "adm_diag = df_merge_adm_diag[['SUBJECT_ID']].drop_duplicates()\n",
        "heart_failure_dataset['HEART FAILURE'] = 1\n",
        "heart_failure_patients = heart_failure_dataset[['SUBJECT_ID', 'HEART FAILURE']]\n",
        "df_heart_failure = pd.merge(adm_diag, heart_failure_patients, on='SUBJECT_ID', how='left')\n",
        "df_heart_failure['HEART FAILURE'] = np.where(df_heart_failure['HEART FAILURE'].isnull(), 0, 1)\n",
        "# print(len(df_heart_failure['SUBJECT_ID'].unique()))\n",
        "# df_heart_failure.to_csv('Heart_failure_labels.csv', encoding='utf-8-sig')\n",
        "# files.download('Heart_failure_labels.csv')"
      ],
      "metadata": {
        "id": "UN2Fax82Mio_",
        "colab": {
          "base_uri": "https://localhost:8080/"
        },
        "outputId": "629ff4b7-9b23-4e77-d757-9cfa2a5d7797"
      },
      "execution_count": 15,
      "outputs": [
        {
          "output_type": "stream",
          "name": "stdout",
          "text": [
            "Heart failure dataset number of patients:\n",
            "3370\n"
          ]
        }
      ]
    },
    {
      "cell_type": "code",
      "source": [
        "# Extract sepsis dataset with diagnoses of 99592 code (sepsis 3.0 definition)\n",
        "def sepsis_filter(df_merge_adm_diag):\n",
        "    new_df = df_merge_adm_diag.loc[df_merge_adm_diag['ICD9_CODE'].eq('99592')].copy()\n",
        "    # first time the diagnoses appear\n",
        "    new_df = new_df.groupby('SUBJECT_ID').first()\n",
        "    new_df = new_df.reset_index()\n",
        "    return new_df\n",
        "sepsis_dataset = sepsis_filter(df_merge_adm_diag)\n",
        "print('Sepsis dataset number of patients:')\n",
        "print(len(sepsis_dataset['SUBJECT_ID'].unique()))\n",
        "# Create sepsis labels\n",
        "sepsis_dataset['SEPSIS'] = 1\n",
        "sepsis_dataset = sepsis_dataset[['SUBJECT_ID', 'SEPSIS']]\n",
        "df_sepsis = pd.merge(adm_diag, sepsis_dataset, on='SUBJECT_ID', how='left')\n",
        "df_sepsis['SEPSIS'] = np.where(df_sepsis['SEPSIS'].isnull(), 0, 1)\n",
        "# print(len(df_sepsis['SUBJECT_ID'].unique()))\n",
        "# df_sepsis.to_csv('Sepsis_labels.csv', encoding='utf-8-sig')\n",
        "# files.download('Sepsis_labels.csv')"
      ],
      "metadata": {
        "id": "xALtsPdMT3oU",
        "colab": {
          "base_uri": "https://localhost:8080/"
        },
        "outputId": "4c454d1f-0696-4515-b2d3-c16323fc0625"
      },
      "execution_count": 16,
      "outputs": [
        {
          "output_type": "stream",
          "name": "stdout",
          "text": [
            "Sepsis dataset number of patients:\n",
            "1444\n"
          ]
        }
      ]
    },
    {
      "cell_type": "code",
      "source": [
        "# Create readmission labels\n",
        "readmissions = multi_visit_adm[['SUBJECT_ID']].drop_duplicates()\n",
        "readmissions['Readmission'] = 1\n",
        "print(len(readmissions['SUBJECT_ID'].unique()))\n",
        "adm = df_admissions[['SUBJECT_ID']].drop_duplicates()\n",
        "df_readmissions = pd.merge(adm, readmissions, on='SUBJECT_ID', how='left')\n",
        "df_readmissions['Readmission'] = np.where(df_readmissions['Readmission'].isnull(), 0, 1)\n",
        "print(len(df_readmissions['SUBJECT_ID'].unique()))\n",
        "# df_readmissions.to_csv('Readmission_labels.csv', encoding='utf-8-sig')\n",
        "# files.download('Readmission_labels.csv')"
      ],
      "metadata": {
        "id": "2ZF11V-POgYh",
        "colab": {
          "base_uri": "https://localhost:8080/"
        },
        "outputId": "015ffcb4-102e-4bd1-d738-ef73e4f3bc3d"
      },
      "execution_count": 17,
      "outputs": [
        {
          "output_type": "stream",
          "name": "stdout",
          "text": [
            "7537\n",
            "46520\n"
          ]
        }
      ]
    },
    {
      "cell_type": "code",
      "source": [
        "# create custom dataset for the model\n",
        "def create_dataset(df, label_df, codemap, transform):\n",
        "\t\"\"\"\n",
        "\t:param codemap: 3-digit ICD-9 code feature map\n",
        "\t:param transform: e.g. convert_icd9\n",
        "\t:return: List(patient IDs), List(labels), Visit sequence data as a List of List of List.\n",
        "\t\"\"\"\n",
        "\tdf_merge_visit = df.groupby(['SUBJECT_ID','ADMITTIME'],as_index=False).agg({'featureID': lambda x: list(x)})\n",
        " \t# Visits for each patient must be sorted in chronological order.\n",
        "\tdf_merge_visit = df_merge_visit.sort_values(by=['SUBJECT_ID', 'ADMITTIME'])\n",
        "\t# Group the visits for the same patient.\n",
        "\tdf_merge = df_merge_visit.groupby('SUBJECT_ID',as_index=False).agg({'featureID': lambda x: list(x)})\n",
        "\tdf_merge = df_merge.sort_values(by='SUBJECT_ID')\n",
        "\tpatients_ids = df_merge['SUBJECT_ID']\n",
        " \t# Make a visit sequence dataset as a List of patient Lists of visit Lists\n",
        "\t# Make patient-id List and label List too.\n",
        "\tlabel = pd.merge(patients_ids, label_df, on='SUBJECT_ID',how='left').dropna()\n",
        "\tpatient_ids = list(df_merge['SUBJECT_ID'])\n",
        "\tlabels = list(label.iloc[:, -1])\n",
        "\tseq_data = list(df_merge['featureID'])\n",
        "\treturn patient_ids, labels, seq_data"
      ],
      "metadata": {
        "id": "_0YL7LZ-OZ08"
      },
      "execution_count": 18,
      "outputs": []
    },
    {
      "cell_type": "code",
      "source": [
        "# split mortality dataset into train, validation, test = (0.75, 0.1, 0.15)\n",
        "# first split the 7537 patients with mortality label, then join each dataset with admission_diagnosis table\n",
        "train_mortality = df_mortality.sample(frac = 0.75)\n",
        "val_test_mortality = df_mortality.drop(train_mortality.index)\n",
        "validation_mortality = val_test_mortality.sample(frac = 0.40)\n",
        "test_mortality = val_test_mortality.drop(validation_mortality.index)\n",
        "train_mortality_data = pd.merge(train_mortality, df_merge_adm_diag, on='SUBJECT_ID', how='left')\n",
        "print(train_mortality_data.shape)\n",
        "print(len(train_mortality_data['SUBJECT_ID'].unique()))\n",
        "validation_mortality_data = pd.merge(validation_mortality, df_merge_adm_diag, on='SUBJECT_ID', how='left')\n",
        "print(len(validation_mortality_data['SUBJECT_ID'].unique()))\n",
        "test_mortality_data = pd.merge(test_mortality, df_merge_adm_diag, on='SUBJECT_ID', how='left')\n",
        "print(len(test_mortality_data['SUBJECT_ID'].unique()))\n",
        "\n",
        "# create mortality train, validation, test custom dataset\n",
        "mortality_ids_train, mortality_labels_train, mortality_seqs_train = create_dataset(train_mortality_data, df_mortality, codemap, convert_to_icd9)\n",
        "mortality_ids_validation, mortality_labels_validation, mortality_seqs_validation = create_dataset(validation_mortality_data, df_mortality, codemap, convert_to_icd9)\n",
        "mortality_ids_test, mortality_labels_test, mortality_seqs_test = create_dataset(test_mortality_data, df_mortality, codemap, convert_to_icd9)\n"
      ],
      "metadata": {
        "colab": {
          "base_uri": "https://localhost:8080/"
        },
        "id": "K7NArx_QFFh7",
        "outputId": "705694ce-c83f-4578-e167-9cda18e53205"
      },
      "execution_count": 19,
      "outputs": [
        {
          "output_type": "stream",
          "name": "stdout",
          "text": [
            "(194789, 9)\n",
            "5653\n",
            "754\n",
            "1130\n"
          ]
        }
      ]
    },
    {
      "cell_type": "code",
      "source": [
        "print(mortality_seqs_train[:10])"
      ],
      "metadata": {
        "colab": {
          "base_uri": "https://localhost:8080/"
        },
        "id": "bRSn6ZUUb8yJ",
        "outputId": "42ee6a6c-e064-49c9-a6d5-322c26569ec3"
      },
      "execution_count": 20,
      "outputs": [
        {
          "output_type": "stream",
          "name": "stdout",
          "text": [
            "[[[26, 31, 120, 168, 244, 46, 167, 380], [377, 378, 143, 120, 46, 33, 244, 113, 379, 155]], [[24, 44, 4, 102, 98, 282, 26, 401], [277, 402, 386, 26, 403, 44, 77, 157]], [[26, 31, 92, 46, 34, 30, 167, 408, 410], [110, 253, 406, 288, 407, 92, 26, 113, 46, 167, 30, 408], [337, 406, 145, 1, 409, 213, 112, 92, 46, 167, 254, 408]], [[190, 191, 46, 77, 59, 159], [188, 77, 46, 189, 159]], [[192, 1, 4, 195, 44, 65, 193, 72, 194, 73, 25, 196, 197], [192, 1, 4, 5, 65, 62, 193, 194, 10, 44, 25]], [[237], [237, 238, 239, 240]], [[73, 278, 38, 279, 280, 46, 277, 281], [275, 276, 1, 102, 46, 167, 277, 25]], [[308, 188, 309, 1, 46, 155, 310, 311], [188, 308, 312, 302, 46]], [[299, 70, 601, 57, 42, 4, 102, 65, 171, 277, 318, 25, 828], [317, 1, 44, 318]], [[838, 234, 168, 101, 839], [834, 14, 111, 24, 837, 509, 101, 543, 427, 448, 44, 631, 26, 11, 7], [833, 14, 834, 234, 59, 22, 168, 509, 101, 244, 394, 216, 835, 279, 585, 836, 7]]]\n"
          ]
        }
      ]
    },
    {
      "cell_type": "code",
      "source": [
        "print(mortality_ids_train[:10])"
      ],
      "metadata": {
        "colab": {
          "base_uri": "https://localhost:8080/"
        },
        "id": "YrepgLCVhnxL",
        "outputId": "6557f7f2-0f5f-454f-d9f2-d959e840b7ce"
      },
      "execution_count": 21,
      "outputs": [
        {
          "output_type": "stream",
          "name": "stdout",
          "text": [
            "[23, 34, 36, 67, 68, 84, 94, 103, 105, 107]\n"
          ]
        }
      ]
    },
    {
      "cell_type": "code",
      "source": [
        "print(mortality_labels_train[:10])"
      ],
      "metadata": {
        "colab": {
          "base_uri": "https://localhost:8080/"
        },
        "id": "ZvNr-fEKcNdG",
        "outputId": "fee57f75-2865-4d6e-f5b4-9b5a27bf9ac7"
      },
      "execution_count": 22,
      "outputs": [
        {
          "output_type": "stream",
          "name": "stdout",
          "text": [
            "[0, 0, 0, 1, 0, 1, 0, 1, 0, 0]\n"
          ]
        }
      ]
    },
    {
      "cell_type": "code",
      "source": [
        "# construct mortality train set\n",
        "pickle.dump(mortality_ids_train, open(\"mortality.ids.train\", 'wb'), pickle.HIGHEST_PROTOCOL)\n",
        "pickle.dump(mortality_labels_train, open(\"mortality.labels.train\", 'wb'), pickle.HIGHEST_PROTOCOL)\n",
        "pickle.dump(mortality_seqs_train, open(\"mortality.seqs.train\", 'wb'), pickle.HIGHEST_PROTOCOL)\n",
        "files.download(\"mortality.ids.train\")\n",
        "files.download(\"mortality.labels.train\")\n",
        "files.download(\"mortality.seqs.train\")\n"
      ],
      "metadata": {
        "colab": {
          "base_uri": "https://localhost:8080/",
          "height": 17
        },
        "id": "4CKE1LgAzDfN",
        "outputId": "462e2eaa-6f74-4187-effe-d46190aa5ce3"
      },
      "execution_count": 23,
      "outputs": [
        {
          "output_type": "display_data",
          "data": {
            "text/plain": [
              "<IPython.core.display.Javascript object>"
            ],
            "application/javascript": [
              "\n",
              "    async function download(id, filename, size) {\n",
              "      if (!google.colab.kernel.accessAllowed) {\n",
              "        return;\n",
              "      }\n",
              "      const div = document.createElement('div');\n",
              "      const label = document.createElement('label');\n",
              "      label.textContent = `Downloading \"${filename}\": `;\n",
              "      div.appendChild(label);\n",
              "      const progress = document.createElement('progress');\n",
              "      progress.max = size;\n",
              "      div.appendChild(progress);\n",
              "      document.body.appendChild(div);\n",
              "\n",
              "      const buffers = [];\n",
              "      let downloaded = 0;\n",
              "\n",
              "      const channel = await google.colab.kernel.comms.open(id);\n",
              "      // Send a message to notify the kernel that we're ready.\n",
              "      channel.send({})\n",
              "\n",
              "      for await (const message of channel.messages) {\n",
              "        // Send a message to notify the kernel that we're ready.\n",
              "        channel.send({})\n",
              "        if (message.buffers) {\n",
              "          for (const buffer of message.buffers) {\n",
              "            buffers.push(buffer);\n",
              "            downloaded += buffer.byteLength;\n",
              "            progress.value = downloaded;\n",
              "          }\n",
              "        }\n",
              "      }\n",
              "      const blob = new Blob(buffers, {type: 'application/binary'});\n",
              "      const a = document.createElement('a');\n",
              "      a.href = window.URL.createObjectURL(blob);\n",
              "      a.download = filename;\n",
              "      div.appendChild(a);\n",
              "      a.click();\n",
              "      div.remove();\n",
              "    }\n",
              "  "
            ]
          },
          "metadata": {}
        },
        {
          "output_type": "display_data",
          "data": {
            "text/plain": [
              "<IPython.core.display.Javascript object>"
            ],
            "application/javascript": [
              "download(\"download_27a4ed2c-3bd2-437a-972a-659602e1bdb2\", \"mortality.ids.train\", 19046)"
            ]
          },
          "metadata": {}
        },
        {
          "output_type": "display_data",
          "data": {
            "text/plain": [
              "<IPython.core.display.Javascript object>"
            ],
            "application/javascript": [
              "\n",
              "    async function download(id, filename, size) {\n",
              "      if (!google.colab.kernel.accessAllowed) {\n",
              "        return;\n",
              "      }\n",
              "      const div = document.createElement('div');\n",
              "      const label = document.createElement('label');\n",
              "      label.textContent = `Downloading \"${filename}\": `;\n",
              "      div.appendChild(label);\n",
              "      const progress = document.createElement('progress');\n",
              "      progress.max = size;\n",
              "      div.appendChild(progress);\n",
              "      document.body.appendChild(div);\n",
              "\n",
              "      const buffers = [];\n",
              "      let downloaded = 0;\n",
              "\n",
              "      const channel = await google.colab.kernel.comms.open(id);\n",
              "      // Send a message to notify the kernel that we're ready.\n",
              "      channel.send({})\n",
              "\n",
              "      for await (const message of channel.messages) {\n",
              "        // Send a message to notify the kernel that we're ready.\n",
              "        channel.send({})\n",
              "        if (message.buffers) {\n",
              "          for (const buffer of message.buffers) {\n",
              "            buffers.push(buffer);\n",
              "            downloaded += buffer.byteLength;\n",
              "            progress.value = downloaded;\n",
              "          }\n",
              "        }\n",
              "      }\n",
              "      const blob = new Blob(buffers, {type: 'application/binary'});\n",
              "      const a = document.createElement('a');\n",
              "      a.href = window.URL.createObjectURL(blob);\n",
              "      a.download = filename;\n",
              "      div.appendChild(a);\n",
              "      a.click();\n",
              "      div.remove();\n",
              "    }\n",
              "  "
            ]
          },
          "metadata": {}
        },
        {
          "output_type": "display_data",
          "data": {
            "text/plain": [
              "<IPython.core.display.Javascript object>"
            ],
            "application/javascript": [
              "download(\"download_50ffce06-def6-4f0a-af3e-ed2331e17b9a\", \"mortality.labels.train\", 11332)"
            ]
          },
          "metadata": {}
        },
        {
          "output_type": "display_data",
          "data": {
            "text/plain": [
              "<IPython.core.display.Javascript object>"
            ],
            "application/javascript": [
              "\n",
              "    async function download(id, filename, size) {\n",
              "      if (!google.colab.kernel.accessAllowed) {\n",
              "        return;\n",
              "      }\n",
              "      const div = document.createElement('div');\n",
              "      const label = document.createElement('label');\n",
              "      label.textContent = `Downloading \"${filename}\": `;\n",
              "      div.appendChild(label);\n",
              "      const progress = document.createElement('progress');\n",
              "      progress.max = size;\n",
              "      div.appendChild(progress);\n",
              "      document.body.appendChild(div);\n",
              "\n",
              "      const buffers = [];\n",
              "      let downloaded = 0;\n",
              "\n",
              "      const channel = await google.colab.kernel.comms.open(id);\n",
              "      // Send a message to notify the kernel that we're ready.\n",
              "      channel.send({})\n",
              "\n",
              "      for await (const message of channel.messages) {\n",
              "        // Send a message to notify the kernel that we're ready.\n",
              "        channel.send({})\n",
              "        if (message.buffers) {\n",
              "          for (const buffer of message.buffers) {\n",
              "            buffers.push(buffer);\n",
              "            downloaded += buffer.byteLength;\n",
              "            progress.value = downloaded;\n",
              "          }\n",
              "        }\n",
              "      }\n",
              "      const blob = new Blob(buffers, {type: 'application/binary'});\n",
              "      const a = document.createElement('a');\n",
              "      a.href = window.URL.createObjectURL(blob);\n",
              "      a.download = filename;\n",
              "      div.appendChild(a);\n",
              "      a.click();\n",
              "      div.remove();\n",
              "    }\n",
              "  "
            ]
          },
          "metadata": {}
        },
        {
          "output_type": "display_data",
          "data": {
            "text/plain": [
              "<IPython.core.display.Javascript object>"
            ],
            "application/javascript": [
              "download(\"download_9033b18b-17c7-4f8a-bf54-7f4c3f46ccfa\", \"mortality.seqs.train\", 571480)"
            ]
          },
          "metadata": {}
        }
      ]
    },
    {
      "cell_type": "code",
      "source": [
        "# construct mortality validation set\n",
        "pickle.dump(mortality_ids_validation, open(\"mortality.ids.validation\", 'wb'), pickle.HIGHEST_PROTOCOL)\n",
        "pickle.dump(mortality_labels_validation, open(\"mortality.labels.validation\", 'wb'), pickle.HIGHEST_PROTOCOL)\n",
        "pickle.dump(mortality_seqs_validation, open(\"mortality.seqs.validation\", 'wb'), pickle.HIGHEST_PROTOCOL)\n",
        "files.download(\"mortality.ids.validation\")\n",
        "files.download(\"mortality.labels.validation\")\n",
        "files.download(\"mortality.seqs.validation\")"
      ],
      "metadata": {
        "colab": {
          "base_uri": "https://localhost:8080/",
          "height": 17
        },
        "id": "21rOknZA0-ae",
        "outputId": "8d5e342f-7d27-4184-b039-0192cfe7d83a"
      },
      "execution_count": 24,
      "outputs": [
        {
          "output_type": "display_data",
          "data": {
            "text/plain": [
              "<IPython.core.display.Javascript object>"
            ],
            "application/javascript": [
              "\n",
              "    async function download(id, filename, size) {\n",
              "      if (!google.colab.kernel.accessAllowed) {\n",
              "        return;\n",
              "      }\n",
              "      const div = document.createElement('div');\n",
              "      const label = document.createElement('label');\n",
              "      label.textContent = `Downloading \"${filename}\": `;\n",
              "      div.appendChild(label);\n",
              "      const progress = document.createElement('progress');\n",
              "      progress.max = size;\n",
              "      div.appendChild(progress);\n",
              "      document.body.appendChild(div);\n",
              "\n",
              "      const buffers = [];\n",
              "      let downloaded = 0;\n",
              "\n",
              "      const channel = await google.colab.kernel.comms.open(id);\n",
              "      // Send a message to notify the kernel that we're ready.\n",
              "      channel.send({})\n",
              "\n",
              "      for await (const message of channel.messages) {\n",
              "        // Send a message to notify the kernel that we're ready.\n",
              "        channel.send({})\n",
              "        if (message.buffers) {\n",
              "          for (const buffer of message.buffers) {\n",
              "            buffers.push(buffer);\n",
              "            downloaded += buffer.byteLength;\n",
              "            progress.value = downloaded;\n",
              "          }\n",
              "        }\n",
              "      }\n",
              "      const blob = new Blob(buffers, {type: 'application/binary'});\n",
              "      const a = document.createElement('a');\n",
              "      a.href = window.URL.createObjectURL(blob);\n",
              "      a.download = filename;\n",
              "      div.appendChild(a);\n",
              "      a.click();\n",
              "      div.remove();\n",
              "    }\n",
              "  "
            ]
          },
          "metadata": {}
        },
        {
          "output_type": "display_data",
          "data": {
            "text/plain": [
              "<IPython.core.display.Javascript object>"
            ],
            "application/javascript": [
              "download(\"download_8ebe9102-5f59-45e6-9dd1-66aa9bf5b3ad\", \"mortality.ids.validation\", 2508)"
            ]
          },
          "metadata": {}
        },
        {
          "output_type": "display_data",
          "data": {
            "text/plain": [
              "<IPython.core.display.Javascript object>"
            ],
            "application/javascript": [
              "\n",
              "    async function download(id, filename, size) {\n",
              "      if (!google.colab.kernel.accessAllowed) {\n",
              "        return;\n",
              "      }\n",
              "      const div = document.createElement('div');\n",
              "      const label = document.createElement('label');\n",
              "      label.textContent = `Downloading \"${filename}\": `;\n",
              "      div.appendChild(label);\n",
              "      const progress = document.createElement('progress');\n",
              "      progress.max = size;\n",
              "      div.appendChild(progress);\n",
              "      document.body.appendChild(div);\n",
              "\n",
              "      const buffers = [];\n",
              "      let downloaded = 0;\n",
              "\n",
              "      const channel = await google.colab.kernel.comms.open(id);\n",
              "      // Send a message to notify the kernel that we're ready.\n",
              "      channel.send({})\n",
              "\n",
              "      for await (const message of channel.messages) {\n",
              "        // Send a message to notify the kernel that we're ready.\n",
              "        channel.send({})\n",
              "        if (message.buffers) {\n",
              "          for (const buffer of message.buffers) {\n",
              "            buffers.push(buffer);\n",
              "            downloaded += buffer.byteLength;\n",
              "            progress.value = downloaded;\n",
              "          }\n",
              "        }\n",
              "      }\n",
              "      const blob = new Blob(buffers, {type: 'application/binary'});\n",
              "      const a = document.createElement('a');\n",
              "      a.href = window.URL.createObjectURL(blob);\n",
              "      a.download = filename;\n",
              "      div.appendChild(a);\n",
              "      a.click();\n",
              "      div.remove();\n",
              "    }\n",
              "  "
            ]
          },
          "metadata": {}
        },
        {
          "output_type": "display_data",
          "data": {
            "text/plain": [
              "<IPython.core.display.Javascript object>"
            ],
            "application/javascript": [
              "download(\"download_5f7d0297-1abe-4af1-b0ed-b22178ebfdb2\", \"mortality.labels.validation\", 1524)"
            ]
          },
          "metadata": {}
        },
        {
          "output_type": "display_data",
          "data": {
            "text/plain": [
              "<IPython.core.display.Javascript object>"
            ],
            "application/javascript": [
              "\n",
              "    async function download(id, filename, size) {\n",
              "      if (!google.colab.kernel.accessAllowed) {\n",
              "        return;\n",
              "      }\n",
              "      const div = document.createElement('div');\n",
              "      const label = document.createElement('label');\n",
              "      label.textContent = `Downloading \"${filename}\": `;\n",
              "      div.appendChild(label);\n",
              "      const progress = document.createElement('progress');\n",
              "      progress.max = size;\n",
              "      div.appendChild(progress);\n",
              "      document.body.appendChild(div);\n",
              "\n",
              "      const buffers = [];\n",
              "      let downloaded = 0;\n",
              "\n",
              "      const channel = await google.colab.kernel.comms.open(id);\n",
              "      // Send a message to notify the kernel that we're ready.\n",
              "      channel.send({})\n",
              "\n",
              "      for await (const message of channel.messages) {\n",
              "        // Send a message to notify the kernel that we're ready.\n",
              "        channel.send({})\n",
              "        if (message.buffers) {\n",
              "          for (const buffer of message.buffers) {\n",
              "            buffers.push(buffer);\n",
              "            downloaded += buffer.byteLength;\n",
              "            progress.value = downloaded;\n",
              "          }\n",
              "        }\n",
              "      }\n",
              "      const blob = new Blob(buffers, {type: 'application/binary'});\n",
              "      const a = document.createElement('a');\n",
              "      a.href = window.URL.createObjectURL(blob);\n",
              "      a.download = filename;\n",
              "      div.appendChild(a);\n",
              "      a.click();\n",
              "      div.remove();\n",
              "    }\n",
              "  "
            ]
          },
          "metadata": {}
        },
        {
          "output_type": "display_data",
          "data": {
            "text/plain": [
              "<IPython.core.display.Javascript object>"
            ],
            "application/javascript": [
              "download(\"download_a40d79c6-8694-4182-b931-f40b57a8c3c0\", \"mortality.seqs.validation\", 78270)"
            ]
          },
          "metadata": {}
        }
      ]
    },
    {
      "cell_type": "code",
      "source": [
        "# construct mortality test set\n",
        "pickle.dump(mortality_ids_test, open(\"mortality.ids.test\", 'wb'), pickle.HIGHEST_PROTOCOL)\n",
        "pickle.dump(mortality_labels_test, open(\"mortality.labels.test\", 'wb'), pickle.HIGHEST_PROTOCOL)\n",
        "pickle.dump(mortality_seqs_test, open(\"mortality.seqs.test\", 'wb'), pickle.HIGHEST_PROTOCOL)\n",
        "files.download(\"mortality.ids.test\")\n",
        "files.download(\"mortality.labels.test\")\n",
        "files.download(\"mortality.seqs.test\")"
      ],
      "metadata": {
        "colab": {
          "base_uri": "https://localhost:8080/",
          "height": 17
        },
        "id": "a-FQjflf1YpD",
        "outputId": "2ebf2b8d-1c99-47b5-c8fb-010e9d778e9c"
      },
      "execution_count": 25,
      "outputs": [
        {
          "output_type": "display_data",
          "data": {
            "text/plain": [
              "<IPython.core.display.Javascript object>"
            ],
            "application/javascript": [
              "\n",
              "    async function download(id, filename, size) {\n",
              "      if (!google.colab.kernel.accessAllowed) {\n",
              "        return;\n",
              "      }\n",
              "      const div = document.createElement('div');\n",
              "      const label = document.createElement('label');\n",
              "      label.textContent = `Downloading \"${filename}\": `;\n",
              "      div.appendChild(label);\n",
              "      const progress = document.createElement('progress');\n",
              "      progress.max = size;\n",
              "      div.appendChild(progress);\n",
              "      document.body.appendChild(div);\n",
              "\n",
              "      const buffers = [];\n",
              "      let downloaded = 0;\n",
              "\n",
              "      const channel = await google.colab.kernel.comms.open(id);\n",
              "      // Send a message to notify the kernel that we're ready.\n",
              "      channel.send({})\n",
              "\n",
              "      for await (const message of channel.messages) {\n",
              "        // Send a message to notify the kernel that we're ready.\n",
              "        channel.send({})\n",
              "        if (message.buffers) {\n",
              "          for (const buffer of message.buffers) {\n",
              "            buffers.push(buffer);\n",
              "            downloaded += buffer.byteLength;\n",
              "            progress.value = downloaded;\n",
              "          }\n",
              "        }\n",
              "      }\n",
              "      const blob = new Blob(buffers, {type: 'application/binary'});\n",
              "      const a = document.createElement('a');\n",
              "      a.href = window.URL.createObjectURL(blob);\n",
              "      a.download = filename;\n",
              "      div.appendChild(a);\n",
              "      a.click();\n",
              "      div.remove();\n",
              "    }\n",
              "  "
            ]
          },
          "metadata": {}
        },
        {
          "output_type": "display_data",
          "data": {
            "text/plain": [
              "<IPython.core.display.Javascript object>"
            ],
            "application/javascript": [
              "download(\"download_f4139eac-713f-48d2-b62b-eba9845e1553\", \"mortality.ids.test\", 3847)"
            ]
          },
          "metadata": {}
        },
        {
          "output_type": "display_data",
          "data": {
            "text/plain": [
              "<IPython.core.display.Javascript object>"
            ],
            "application/javascript": [
              "\n",
              "    async function download(id, filename, size) {\n",
              "      if (!google.colab.kernel.accessAllowed) {\n",
              "        return;\n",
              "      }\n",
              "      const div = document.createElement('div');\n",
              "      const label = document.createElement('label');\n",
              "      label.textContent = `Downloading \"${filename}\": `;\n",
              "      div.appendChild(label);\n",
              "      const progress = document.createElement('progress');\n",
              "      progress.max = size;\n",
              "      div.appendChild(progress);\n",
              "      document.body.appendChild(div);\n",
              "\n",
              "      const buffers = [];\n",
              "      let downloaded = 0;\n",
              "\n",
              "      const channel = await google.colab.kernel.comms.open(id);\n",
              "      // Send a message to notify the kernel that we're ready.\n",
              "      channel.send({})\n",
              "\n",
              "      for await (const message of channel.messages) {\n",
              "        // Send a message to notify the kernel that we're ready.\n",
              "        channel.send({})\n",
              "        if (message.buffers) {\n",
              "          for (const buffer of message.buffers) {\n",
              "            buffers.push(buffer);\n",
              "            downloaded += buffer.byteLength;\n",
              "            progress.value = downloaded;\n",
              "          }\n",
              "        }\n",
              "      }\n",
              "      const blob = new Blob(buffers, {type: 'application/binary'});\n",
              "      const a = document.createElement('a');\n",
              "      a.href = window.URL.createObjectURL(blob);\n",
              "      a.download = filename;\n",
              "      div.appendChild(a);\n",
              "      a.click();\n",
              "      div.remove();\n",
              "    }\n",
              "  "
            ]
          },
          "metadata": {}
        },
        {
          "output_type": "display_data",
          "data": {
            "text/plain": [
              "<IPython.core.display.Javascript object>"
            ],
            "application/javascript": [
              "download(\"download_4f214b14-a24a-428b-9f94-7c61fd22e5c3\", \"mortality.labels.test\", 2278)"
            ]
          },
          "metadata": {}
        },
        {
          "output_type": "display_data",
          "data": {
            "text/plain": [
              "<IPython.core.display.Javascript object>"
            ],
            "application/javascript": [
              "\n",
              "    async function download(id, filename, size) {\n",
              "      if (!google.colab.kernel.accessAllowed) {\n",
              "        return;\n",
              "      }\n",
              "      const div = document.createElement('div');\n",
              "      const label = document.createElement('label');\n",
              "      label.textContent = `Downloading \"${filename}\": `;\n",
              "      div.appendChild(label);\n",
              "      const progress = document.createElement('progress');\n",
              "      progress.max = size;\n",
              "      div.appendChild(progress);\n",
              "      document.body.appendChild(div);\n",
              "\n",
              "      const buffers = [];\n",
              "      let downloaded = 0;\n",
              "\n",
              "      const channel = await google.colab.kernel.comms.open(id);\n",
              "      // Send a message to notify the kernel that we're ready.\n",
              "      channel.send({})\n",
              "\n",
              "      for await (const message of channel.messages) {\n",
              "        // Send a message to notify the kernel that we're ready.\n",
              "        channel.send({})\n",
              "        if (message.buffers) {\n",
              "          for (const buffer of message.buffers) {\n",
              "            buffers.push(buffer);\n",
              "            downloaded += buffer.byteLength;\n",
              "            progress.value = downloaded;\n",
              "          }\n",
              "        }\n",
              "      }\n",
              "      const blob = new Blob(buffers, {type: 'application/binary'});\n",
              "      const a = document.createElement('a');\n",
              "      a.href = window.URL.createObjectURL(blob);\n",
              "      a.download = filename;\n",
              "      div.appendChild(a);\n",
              "      a.click();\n",
              "      div.remove();\n",
              "    }\n",
              "  "
            ]
          },
          "metadata": {}
        },
        {
          "output_type": "display_data",
          "data": {
            "text/plain": [
              "<IPython.core.display.Javascript object>"
            ],
            "application/javascript": [
              "download(\"download_4d3d5d13-5926-4e18-b702-7d009e3a9e04\", \"mortality.seqs.test\", 113907)"
            ]
          },
          "metadata": {}
        }
      ]
    },
    {
      "cell_type": "code",
      "source": [
        "# split sepsis dataset into train, validation, test = (0.75, 0.1, 0.15)\n",
        "# first split the 7537 patients with sepsis label, then join each dataset with admission_diagnosis table\n",
        "train_sepsis = df_sepsis.sample(frac = 0.75)\n",
        "val_test_sepsis = df_sepsis.drop(train_sepsis.index)\n",
        "validation_sepsis = val_test_sepsis.sample(frac = 0.40)\n",
        "test_sepsis = val_test_sepsis.drop(validation_sepsis.index)\n",
        "train_sepsis_data = pd.merge(train_sepsis, df_merge_adm_diag, on='SUBJECT_ID', how='left')\n",
        "print(train_sepsis_data.shape)\n",
        "print(len(train_sepsis_data['SUBJECT_ID'].unique()))\n",
        "validation_sepsis_data = pd.merge(validation_sepsis, df_merge_adm_diag, on='SUBJECT_ID', how='left')\n",
        "print(len(validation_sepsis_data['SUBJECT_ID'].unique()))\n",
        "test_sepsis_data = pd.merge(test_sepsis, df_merge_adm_diag, on='SUBJECT_ID', how='left')\n",
        "print(len(test_sepsis_data['SUBJECT_ID'].unique()))\n",
        "\n",
        "# create sepsis train, validation, test custom dataset\n",
        "sepsis_ids_train, sepsis_labels_train, sepsis_seqs_train = create_dataset(train_sepsis_data, df_sepsis, codemap, convert_to_icd9)\n",
        "sepsis_ids_validation, sepsis_labels_validation, sepsis_seqs_validation = create_dataset(validation_sepsis_data, df_sepsis, codemap, convert_to_icd9)\n",
        "sepsis_ids_test, sepsis_labels_test, sepsis_seqs_test = create_dataset(test_sepsis_data, df_sepsis, codemap, convert_to_icd9)"
      ],
      "metadata": {
        "colab": {
          "base_uri": "https://localhost:8080/"
        },
        "id": "aKruijLnOlOp",
        "outputId": "fb56ffdf-8b9f-4172-a953-195d6ae1a8dd"
      },
      "execution_count": 26,
      "outputs": [
        {
          "output_type": "stream",
          "name": "stdout",
          "text": [
            "(195879, 9)\n",
            "5653\n",
            "754\n",
            "1130\n"
          ]
        }
      ]
    },
    {
      "cell_type": "code",
      "source": [
        "# construct sepsis train set\n",
        "pickle.dump(sepsis_ids_train, open(\"sepsis.ids.train\", 'wb'), pickle.HIGHEST_PROTOCOL)\n",
        "pickle.dump(sepsis_labels_train, open(\"sepsis.labels.train\", 'wb'), pickle.HIGHEST_PROTOCOL)\n",
        "pickle.dump(sepsis_seqs_train, open(\"sepsis.seqs.train\", 'wb'), pickle.HIGHEST_PROTOCOL)\n",
        "files.download(\"sepsis.ids.train\")\n",
        "files.download(\"sepsis.labels.train\")\n",
        "files.download(\"sepsis.seqs.train\")"
      ],
      "metadata": {
        "colab": {
          "base_uri": "https://localhost:8080/",
          "height": 17
        },
        "id": "khkINy0c1p_T",
        "outputId": "c007646e-4a32-474f-bf0c-62dc4f043f64"
      },
      "execution_count": 27,
      "outputs": [
        {
          "output_type": "display_data",
          "data": {
            "text/plain": [
              "<IPython.core.display.Javascript object>"
            ],
            "application/javascript": [
              "\n",
              "    async function download(id, filename, size) {\n",
              "      if (!google.colab.kernel.accessAllowed) {\n",
              "        return;\n",
              "      }\n",
              "      const div = document.createElement('div');\n",
              "      const label = document.createElement('label');\n",
              "      label.textContent = `Downloading \"${filename}\": `;\n",
              "      div.appendChild(label);\n",
              "      const progress = document.createElement('progress');\n",
              "      progress.max = size;\n",
              "      div.appendChild(progress);\n",
              "      document.body.appendChild(div);\n",
              "\n",
              "      const buffers = [];\n",
              "      let downloaded = 0;\n",
              "\n",
              "      const channel = await google.colab.kernel.comms.open(id);\n",
              "      // Send a message to notify the kernel that we're ready.\n",
              "      channel.send({})\n",
              "\n",
              "      for await (const message of channel.messages) {\n",
              "        // Send a message to notify the kernel that we're ready.\n",
              "        channel.send({})\n",
              "        if (message.buffers) {\n",
              "          for (const buffer of message.buffers) {\n",
              "            buffers.push(buffer);\n",
              "            downloaded += buffer.byteLength;\n",
              "            progress.value = downloaded;\n",
              "          }\n",
              "        }\n",
              "      }\n",
              "      const blob = new Blob(buffers, {type: 'application/binary'});\n",
              "      const a = document.createElement('a');\n",
              "      a.href = window.URL.createObjectURL(blob);\n",
              "      a.download = filename;\n",
              "      div.appendChild(a);\n",
              "      a.click();\n",
              "      div.remove();\n",
              "    }\n",
              "  "
            ]
          },
          "metadata": {}
        },
        {
          "output_type": "display_data",
          "data": {
            "text/plain": [
              "<IPython.core.display.Javascript object>"
            ],
            "application/javascript": [
              "download(\"download_ab1e6b86-e331-4920-adb9-6748a3237a28\", \"sepsis.ids.train\", 19075)"
            ]
          },
          "metadata": {}
        },
        {
          "output_type": "display_data",
          "data": {
            "text/plain": [
              "<IPython.core.display.Javascript object>"
            ],
            "application/javascript": [
              "\n",
              "    async function download(id, filename, size) {\n",
              "      if (!google.colab.kernel.accessAllowed) {\n",
              "        return;\n",
              "      }\n",
              "      const div = document.createElement('div');\n",
              "      const label = document.createElement('label');\n",
              "      label.textContent = `Downloading \"${filename}\": `;\n",
              "      div.appendChild(label);\n",
              "      const progress = document.createElement('progress');\n",
              "      progress.max = size;\n",
              "      div.appendChild(progress);\n",
              "      document.body.appendChild(div);\n",
              "\n",
              "      const buffers = [];\n",
              "      let downloaded = 0;\n",
              "\n",
              "      const channel = await google.colab.kernel.comms.open(id);\n",
              "      // Send a message to notify the kernel that we're ready.\n",
              "      channel.send({})\n",
              "\n",
              "      for await (const message of channel.messages) {\n",
              "        // Send a message to notify the kernel that we're ready.\n",
              "        channel.send({})\n",
              "        if (message.buffers) {\n",
              "          for (const buffer of message.buffers) {\n",
              "            buffers.push(buffer);\n",
              "            downloaded += buffer.byteLength;\n",
              "            progress.value = downloaded;\n",
              "          }\n",
              "        }\n",
              "      }\n",
              "      const blob = new Blob(buffers, {type: 'application/binary'});\n",
              "      const a = document.createElement('a');\n",
              "      a.href = window.URL.createObjectURL(blob);\n",
              "      a.download = filename;\n",
              "      div.appendChild(a);\n",
              "      a.click();\n",
              "      div.remove();\n",
              "    }\n",
              "  "
            ]
          },
          "metadata": {}
        },
        {
          "output_type": "display_data",
          "data": {
            "text/plain": [
              "<IPython.core.display.Javascript object>"
            ],
            "application/javascript": [
              "download(\"download_86c57456-77e5-46a7-b586-43105f885db0\", \"sepsis.labels.train\", 11332)"
            ]
          },
          "metadata": {}
        },
        {
          "output_type": "display_data",
          "data": {
            "text/plain": [
              "<IPython.core.display.Javascript object>"
            ],
            "application/javascript": [
              "\n",
              "    async function download(id, filename, size) {\n",
              "      if (!google.colab.kernel.accessAllowed) {\n",
              "        return;\n",
              "      }\n",
              "      const div = document.createElement('div');\n",
              "      const label = document.createElement('label');\n",
              "      label.textContent = `Downloading \"${filename}\": `;\n",
              "      div.appendChild(label);\n",
              "      const progress = document.createElement('progress');\n",
              "      progress.max = size;\n",
              "      div.appendChild(progress);\n",
              "      document.body.appendChild(div);\n",
              "\n",
              "      const buffers = [];\n",
              "      let downloaded = 0;\n",
              "\n",
              "      const channel = await google.colab.kernel.comms.open(id);\n",
              "      // Send a message to notify the kernel that we're ready.\n",
              "      channel.send({})\n",
              "\n",
              "      for await (const message of channel.messages) {\n",
              "        // Send a message to notify the kernel that we're ready.\n",
              "        channel.send({})\n",
              "        if (message.buffers) {\n",
              "          for (const buffer of message.buffers) {\n",
              "            buffers.push(buffer);\n",
              "            downloaded += buffer.byteLength;\n",
              "            progress.value = downloaded;\n",
              "          }\n",
              "        }\n",
              "      }\n",
              "      const blob = new Blob(buffers, {type: 'application/binary'});\n",
              "      const a = document.createElement('a');\n",
              "      a.href = window.URL.createObjectURL(blob);\n",
              "      a.download = filename;\n",
              "      div.appendChild(a);\n",
              "      a.click();\n",
              "      div.remove();\n",
              "    }\n",
              "  "
            ]
          },
          "metadata": {}
        },
        {
          "output_type": "display_data",
          "data": {
            "text/plain": [
              "<IPython.core.display.Javascript object>"
            ],
            "application/javascript": [
              "download(\"download_fe6f8713-65d4-44df-bf23-b6e2dc82d0b4\", \"sepsis.seqs.train\", 574796)"
            ]
          },
          "metadata": {}
        }
      ]
    },
    {
      "cell_type": "code",
      "source": [
        "# construct sepsis validation set\n",
        "pickle.dump(sepsis_ids_validation, open(\"sepsis.ids.validation\", 'wb'), pickle.HIGHEST_PROTOCOL)\n",
        "pickle.dump(sepsis_labels_validation, open(\"sepsis.labels.validation\", 'wb'), pickle.HIGHEST_PROTOCOL)\n",
        "pickle.dump(sepsis_seqs_validation, open(\"sepsis.seqs.validation\", 'wb'), pickle.HIGHEST_PROTOCOL)\n",
        "files.download(\"sepsis.ids.validation\")\n",
        "files.download(\"sepsis.labels.validation\")\n",
        "files.download(\"sepsis.seqs.validation\")"
      ],
      "metadata": {
        "colab": {
          "base_uri": "https://localhost:8080/",
          "height": 17
        },
        "id": "B7C29bIu2CIn",
        "outputId": "3254891b-b0aa-404f-d11c-d6b0b5999533"
      },
      "execution_count": 28,
      "outputs": [
        {
          "output_type": "display_data",
          "data": {
            "text/plain": [
              "<IPython.core.display.Javascript object>"
            ],
            "application/javascript": [
              "\n",
              "    async function download(id, filename, size) {\n",
              "      if (!google.colab.kernel.accessAllowed) {\n",
              "        return;\n",
              "      }\n",
              "      const div = document.createElement('div');\n",
              "      const label = document.createElement('label');\n",
              "      label.textContent = `Downloading \"${filename}\": `;\n",
              "      div.appendChild(label);\n",
              "      const progress = document.createElement('progress');\n",
              "      progress.max = size;\n",
              "      div.appendChild(progress);\n",
              "      document.body.appendChild(div);\n",
              "\n",
              "      const buffers = [];\n",
              "      let downloaded = 0;\n",
              "\n",
              "      const channel = await google.colab.kernel.comms.open(id);\n",
              "      // Send a message to notify the kernel that we're ready.\n",
              "      channel.send({})\n",
              "\n",
              "      for await (const message of channel.messages) {\n",
              "        // Send a message to notify the kernel that we're ready.\n",
              "        channel.send({})\n",
              "        if (message.buffers) {\n",
              "          for (const buffer of message.buffers) {\n",
              "            buffers.push(buffer);\n",
              "            downloaded += buffer.byteLength;\n",
              "            progress.value = downloaded;\n",
              "          }\n",
              "        }\n",
              "      }\n",
              "      const blob = new Blob(buffers, {type: 'application/binary'});\n",
              "      const a = document.createElement('a');\n",
              "      a.href = window.URL.createObjectURL(blob);\n",
              "      a.download = filename;\n",
              "      div.appendChild(a);\n",
              "      a.click();\n",
              "      div.remove();\n",
              "    }\n",
              "  "
            ]
          },
          "metadata": {}
        },
        {
          "output_type": "display_data",
          "data": {
            "text/plain": [
              "<IPython.core.display.Javascript object>"
            ],
            "application/javascript": [
              "download(\"download_d2e03fe7-3e5e-4a1a-abc8-13064235c4dc\", \"sepsis.ids.validation\", 2534)"
            ]
          },
          "metadata": {}
        },
        {
          "output_type": "display_data",
          "data": {
            "text/plain": [
              "<IPython.core.display.Javascript object>"
            ],
            "application/javascript": [
              "\n",
              "    async function download(id, filename, size) {\n",
              "      if (!google.colab.kernel.accessAllowed) {\n",
              "        return;\n",
              "      }\n",
              "      const div = document.createElement('div');\n",
              "      const label = document.createElement('label');\n",
              "      label.textContent = `Downloading \"${filename}\": `;\n",
              "      div.appendChild(label);\n",
              "      const progress = document.createElement('progress');\n",
              "      progress.max = size;\n",
              "      div.appendChild(progress);\n",
              "      document.body.appendChild(div);\n",
              "\n",
              "      const buffers = [];\n",
              "      let downloaded = 0;\n",
              "\n",
              "      const channel = await google.colab.kernel.comms.open(id);\n",
              "      // Send a message to notify the kernel that we're ready.\n",
              "      channel.send({})\n",
              "\n",
              "      for await (const message of channel.messages) {\n",
              "        // Send a message to notify the kernel that we're ready.\n",
              "        channel.send({})\n",
              "        if (message.buffers) {\n",
              "          for (const buffer of message.buffers) {\n",
              "            buffers.push(buffer);\n",
              "            downloaded += buffer.byteLength;\n",
              "            progress.value = downloaded;\n",
              "          }\n",
              "        }\n",
              "      }\n",
              "      const blob = new Blob(buffers, {type: 'application/binary'});\n",
              "      const a = document.createElement('a');\n",
              "      a.href = window.URL.createObjectURL(blob);\n",
              "      a.download = filename;\n",
              "      div.appendChild(a);\n",
              "      a.click();\n",
              "      div.remove();\n",
              "    }\n",
              "  "
            ]
          },
          "metadata": {}
        },
        {
          "output_type": "display_data",
          "data": {
            "text/plain": [
              "<IPython.core.display.Javascript object>"
            ],
            "application/javascript": [
              "download(\"download_b5bdf979-50f9-412d-bc12-e0e476e9bcb3\", \"sepsis.labels.validation\", 1524)"
            ]
          },
          "metadata": {}
        },
        {
          "output_type": "display_data",
          "data": {
            "text/plain": [
              "<IPython.core.display.Javascript object>"
            ],
            "application/javascript": [
              "\n",
              "    async function download(id, filename, size) {\n",
              "      if (!google.colab.kernel.accessAllowed) {\n",
              "        return;\n",
              "      }\n",
              "      const div = document.createElement('div');\n",
              "      const label = document.createElement('label');\n",
              "      label.textContent = `Downloading \"${filename}\": `;\n",
              "      div.appendChild(label);\n",
              "      const progress = document.createElement('progress');\n",
              "      progress.max = size;\n",
              "      div.appendChild(progress);\n",
              "      document.body.appendChild(div);\n",
              "\n",
              "      const buffers = [];\n",
              "      let downloaded = 0;\n",
              "\n",
              "      const channel = await google.colab.kernel.comms.open(id);\n",
              "      // Send a message to notify the kernel that we're ready.\n",
              "      channel.send({})\n",
              "\n",
              "      for await (const message of channel.messages) {\n",
              "        // Send a message to notify the kernel that we're ready.\n",
              "        channel.send({})\n",
              "        if (message.buffers) {\n",
              "          for (const buffer of message.buffers) {\n",
              "            buffers.push(buffer);\n",
              "            downloaded += buffer.byteLength;\n",
              "            progress.value = downloaded;\n",
              "          }\n",
              "        }\n",
              "      }\n",
              "      const blob = new Blob(buffers, {type: 'application/binary'});\n",
              "      const a = document.createElement('a');\n",
              "      a.href = window.URL.createObjectURL(blob);\n",
              "      a.download = filename;\n",
              "      div.appendChild(a);\n",
              "      a.click();\n",
              "      div.remove();\n",
              "    }\n",
              "  "
            ]
          },
          "metadata": {}
        },
        {
          "output_type": "display_data",
          "data": {
            "text/plain": [
              "<IPython.core.display.Javascript object>"
            ],
            "application/javascript": [
              "download(\"download_2f5e4b60-d4d8-4085-94d5-2eefde0db37d\", \"sepsis.seqs.validation\", 76966)"
            ]
          },
          "metadata": {}
        }
      ]
    },
    {
      "cell_type": "code",
      "source": [
        "# construct sepsis test set\n",
        "pickle.dump(sepsis_ids_test, open(\"sepsis.ids.test\", 'wb'), pickle.HIGHEST_PROTOCOL)\n",
        "pickle.dump(sepsis_labels_test, open(\"sepsis.labels.test\", 'wb'), pickle.HIGHEST_PROTOCOL)\n",
        "pickle.dump(sepsis_seqs_test, open(\"sepsis.seqs.test\", 'wb'), pickle.HIGHEST_PROTOCOL)\n",
        "files.download(\"sepsis.ids.test\")\n",
        "files.download(\"sepsis.labels.test\")\n",
        "files.download(\"sepsis.seqs.test\")"
      ],
      "metadata": {
        "colab": {
          "base_uri": "https://localhost:8080/",
          "height": 17
        },
        "id": "AIRXNv4o2RS0",
        "outputId": "2afb12bb-a519-4c49-b39c-de6c7caefa39"
      },
      "execution_count": 29,
      "outputs": [
        {
          "output_type": "display_data",
          "data": {
            "text/plain": [
              "<IPython.core.display.Javascript object>"
            ],
            "application/javascript": [
              "\n",
              "    async function download(id, filename, size) {\n",
              "      if (!google.colab.kernel.accessAllowed) {\n",
              "        return;\n",
              "      }\n",
              "      const div = document.createElement('div');\n",
              "      const label = document.createElement('label');\n",
              "      label.textContent = `Downloading \"${filename}\": `;\n",
              "      div.appendChild(label);\n",
              "      const progress = document.createElement('progress');\n",
              "      progress.max = size;\n",
              "      div.appendChild(progress);\n",
              "      document.body.appendChild(div);\n",
              "\n",
              "      const buffers = [];\n",
              "      let downloaded = 0;\n",
              "\n",
              "      const channel = await google.colab.kernel.comms.open(id);\n",
              "      // Send a message to notify the kernel that we're ready.\n",
              "      channel.send({})\n",
              "\n",
              "      for await (const message of channel.messages) {\n",
              "        // Send a message to notify the kernel that we're ready.\n",
              "        channel.send({})\n",
              "        if (message.buffers) {\n",
              "          for (const buffer of message.buffers) {\n",
              "            buffers.push(buffer);\n",
              "            downloaded += buffer.byteLength;\n",
              "            progress.value = downloaded;\n",
              "          }\n",
              "        }\n",
              "      }\n",
              "      const blob = new Blob(buffers, {type: 'application/binary'});\n",
              "      const a = document.createElement('a');\n",
              "      a.href = window.URL.createObjectURL(blob);\n",
              "      a.download = filename;\n",
              "      div.appendChild(a);\n",
              "      a.click();\n",
              "      div.remove();\n",
              "    }\n",
              "  "
            ]
          },
          "metadata": {}
        },
        {
          "output_type": "display_data",
          "data": {
            "text/plain": [
              "<IPython.core.display.Javascript object>"
            ],
            "application/javascript": [
              "download(\"download_09f96bf4-fee2-4be8-adf1-59759cb2b1fc\", \"sepsis.ids.test\", 3792)"
            ]
          },
          "metadata": {}
        },
        {
          "output_type": "display_data",
          "data": {
            "text/plain": [
              "<IPython.core.display.Javascript object>"
            ],
            "application/javascript": [
              "\n",
              "    async function download(id, filename, size) {\n",
              "      if (!google.colab.kernel.accessAllowed) {\n",
              "        return;\n",
              "      }\n",
              "      const div = document.createElement('div');\n",
              "      const label = document.createElement('label');\n",
              "      label.textContent = `Downloading \"${filename}\": `;\n",
              "      div.appendChild(label);\n",
              "      const progress = document.createElement('progress');\n",
              "      progress.max = size;\n",
              "      div.appendChild(progress);\n",
              "      document.body.appendChild(div);\n",
              "\n",
              "      const buffers = [];\n",
              "      let downloaded = 0;\n",
              "\n",
              "      const channel = await google.colab.kernel.comms.open(id);\n",
              "      // Send a message to notify the kernel that we're ready.\n",
              "      channel.send({})\n",
              "\n",
              "      for await (const message of channel.messages) {\n",
              "        // Send a message to notify the kernel that we're ready.\n",
              "        channel.send({})\n",
              "        if (message.buffers) {\n",
              "          for (const buffer of message.buffers) {\n",
              "            buffers.push(buffer);\n",
              "            downloaded += buffer.byteLength;\n",
              "            progress.value = downloaded;\n",
              "          }\n",
              "        }\n",
              "      }\n",
              "      const blob = new Blob(buffers, {type: 'application/binary'});\n",
              "      const a = document.createElement('a');\n",
              "      a.href = window.URL.createObjectURL(blob);\n",
              "      a.download = filename;\n",
              "      div.appendChild(a);\n",
              "      a.click();\n",
              "      div.remove();\n",
              "    }\n",
              "  "
            ]
          },
          "metadata": {}
        },
        {
          "output_type": "display_data",
          "data": {
            "text/plain": [
              "<IPython.core.display.Javascript object>"
            ],
            "application/javascript": [
              "download(\"download_330f2960-6615-4e7a-af67-a2c09d483ba6\", \"sepsis.labels.test\", 2278)"
            ]
          },
          "metadata": {}
        },
        {
          "output_type": "display_data",
          "data": {
            "text/plain": [
              "<IPython.core.display.Javascript object>"
            ],
            "application/javascript": [
              "\n",
              "    async function download(id, filename, size) {\n",
              "      if (!google.colab.kernel.accessAllowed) {\n",
              "        return;\n",
              "      }\n",
              "      const div = document.createElement('div');\n",
              "      const label = document.createElement('label');\n",
              "      label.textContent = `Downloading \"${filename}\": `;\n",
              "      div.appendChild(label);\n",
              "      const progress = document.createElement('progress');\n",
              "      progress.max = size;\n",
              "      div.appendChild(progress);\n",
              "      document.body.appendChild(div);\n",
              "\n",
              "      const buffers = [];\n",
              "      let downloaded = 0;\n",
              "\n",
              "      const channel = await google.colab.kernel.comms.open(id);\n",
              "      // Send a message to notify the kernel that we're ready.\n",
              "      channel.send({})\n",
              "\n",
              "      for await (const message of channel.messages) {\n",
              "        // Send a message to notify the kernel that we're ready.\n",
              "        channel.send({})\n",
              "        if (message.buffers) {\n",
              "          for (const buffer of message.buffers) {\n",
              "            buffers.push(buffer);\n",
              "            downloaded += buffer.byteLength;\n",
              "            progress.value = downloaded;\n",
              "          }\n",
              "        }\n",
              "      }\n",
              "      const blob = new Blob(buffers, {type: 'application/binary'});\n",
              "      const a = document.createElement('a');\n",
              "      a.href = window.URL.createObjectURL(blob);\n",
              "      a.download = filename;\n",
              "      div.appendChild(a);\n",
              "      a.click();\n",
              "      div.remove();\n",
              "    }\n",
              "  "
            ]
          },
          "metadata": {}
        },
        {
          "output_type": "display_data",
          "data": {
            "text/plain": [
              "<IPython.core.display.Javascript object>"
            ],
            "application/javascript": [
              "download(\"download_33e9f1ce-66a9-4264-8a93-3a69c9b4d8f3\", \"sepsis.seqs.test\", 111895)"
            ]
          },
          "metadata": {}
        }
      ]
    },
    {
      "cell_type": "code",
      "source": [
        "# split heart failure dataset into train, validation, test = (0.75, 0.1, 0.15)\n",
        "# first split the 7537 patients with heart failure label, then join each dataset with admission and diagnosis table\n",
        "train_heart_failure = df_heart_failure.sample(frac = 0.75)\n",
        "val_test_heart_failure = df_heart_failure.drop(train_sepsis.index)\n",
        "validation_heart_failure = val_test_heart_failure.sample(frac = 0.40)\n",
        "test_heart_failure = val_test_heart_failure.drop(validation_heart_failure.index)\n",
        "train_heart_data = pd.merge(train_heart_failure, df_merge_adm_diag, on='SUBJECT_ID', how='left')\n",
        "print(train_heart_data.shape)\n",
        "print(len(train_heart_data['SUBJECT_ID'].unique()))\n",
        "validation_heart_data = pd.merge(validation_heart_failure, df_merge_adm_diag, on='SUBJECT_ID', how='left')\n",
        "test_heart_data = pd.merge(test_heart_failure, df_merge_adm_diag, on='SUBJECT_ID', how='left')\n",
        "\n",
        "# create heart failure train, validation, test custom dataset\n",
        "heart_failure_ids_train, heart_failure_labels_train, heart_failure_seqs_train = create_dataset(train_heart_data, df_heart_failure, codemap, convert_to_icd9)\n",
        "heart_failure_ids_validation, heart_failure_labels_validation, heart_failure_seqs_validation = create_dataset(validation_heart_data, df_heart_failure, codemap, convert_to_icd9)\n",
        "heart_failure_ids_test, heart_failure_labels_test, heart_failure_seqs_test = create_dataset(test_heart_data, df_heart_failure, codemap, convert_to_icd9)\n"
      ],
      "metadata": {
        "colab": {
          "base_uri": "https://localhost:8080/"
        },
        "id": "DTRgNqkOQmyH",
        "outputId": "0d8fd1d0-4d45-4b23-acc5-d13fb3734c90"
      },
      "execution_count": 30,
      "outputs": [
        {
          "output_type": "stream",
          "name": "stdout",
          "text": [
            "(195796, 9)\n",
            "5653\n"
          ]
        }
      ]
    },
    {
      "cell_type": "code",
      "source": [
        "# construct heart failure train set\n",
        "pickle.dump(heart_failure_ids_train, open(\"heart_failure.ids.train\", 'wb'), pickle.HIGHEST_PROTOCOL)\n",
        "pickle.dump(heart_failure_labels_train, open(\"heart_failure.labels.train\", 'wb'), pickle.HIGHEST_PROTOCOL)\n",
        "pickle.dump(heart_failure_seqs_train, open(\"heart_failure.seqs.train\", 'wb'), pickle.HIGHEST_PROTOCOL)\n",
        "files.download(\"heart_failure.ids.train\")\n",
        "files.download(\"heart_failure.labels.train\")\n",
        "files.download(\"heart_failure.seqs.train\")"
      ],
      "metadata": {
        "colab": {
          "base_uri": "https://localhost:8080/",
          "height": 17
        },
        "id": "nsFXQGcf3P-Z",
        "outputId": "d85436b5-056b-442d-fcab-5073accd0f45"
      },
      "execution_count": 31,
      "outputs": [
        {
          "output_type": "display_data",
          "data": {
            "text/plain": [
              "<IPython.core.display.Javascript object>"
            ],
            "application/javascript": [
              "\n",
              "    async function download(id, filename, size) {\n",
              "      if (!google.colab.kernel.accessAllowed) {\n",
              "        return;\n",
              "      }\n",
              "      const div = document.createElement('div');\n",
              "      const label = document.createElement('label');\n",
              "      label.textContent = `Downloading \"${filename}\": `;\n",
              "      div.appendChild(label);\n",
              "      const progress = document.createElement('progress');\n",
              "      progress.max = size;\n",
              "      div.appendChild(progress);\n",
              "      document.body.appendChild(div);\n",
              "\n",
              "      const buffers = [];\n",
              "      let downloaded = 0;\n",
              "\n",
              "      const channel = await google.colab.kernel.comms.open(id);\n",
              "      // Send a message to notify the kernel that we're ready.\n",
              "      channel.send({})\n",
              "\n",
              "      for await (const message of channel.messages) {\n",
              "        // Send a message to notify the kernel that we're ready.\n",
              "        channel.send({})\n",
              "        if (message.buffers) {\n",
              "          for (const buffer of message.buffers) {\n",
              "            buffers.push(buffer);\n",
              "            downloaded += buffer.byteLength;\n",
              "            progress.value = downloaded;\n",
              "          }\n",
              "        }\n",
              "      }\n",
              "      const blob = new Blob(buffers, {type: 'application/binary'});\n",
              "      const a = document.createElement('a');\n",
              "      a.href = window.URL.createObjectURL(blob);\n",
              "      a.download = filename;\n",
              "      div.appendChild(a);\n",
              "      a.click();\n",
              "      div.remove();\n",
              "    }\n",
              "  "
            ]
          },
          "metadata": {}
        },
        {
          "output_type": "display_data",
          "data": {
            "text/plain": [
              "<IPython.core.display.Javascript object>"
            ],
            "application/javascript": [
              "download(\"download_eb6244b0-e193-4034-bcf1-5928c8e0e70c\", \"heart_failure.ids.train\", 19004)"
            ]
          },
          "metadata": {}
        },
        {
          "output_type": "display_data",
          "data": {
            "text/plain": [
              "<IPython.core.display.Javascript object>"
            ],
            "application/javascript": [
              "\n",
              "    async function download(id, filename, size) {\n",
              "      if (!google.colab.kernel.accessAllowed) {\n",
              "        return;\n",
              "      }\n",
              "      const div = document.createElement('div');\n",
              "      const label = document.createElement('label');\n",
              "      label.textContent = `Downloading \"${filename}\": `;\n",
              "      div.appendChild(label);\n",
              "      const progress = document.createElement('progress');\n",
              "      progress.max = size;\n",
              "      div.appendChild(progress);\n",
              "      document.body.appendChild(div);\n",
              "\n",
              "      const buffers = [];\n",
              "      let downloaded = 0;\n",
              "\n",
              "      const channel = await google.colab.kernel.comms.open(id);\n",
              "      // Send a message to notify the kernel that we're ready.\n",
              "      channel.send({})\n",
              "\n",
              "      for await (const message of channel.messages) {\n",
              "        // Send a message to notify the kernel that we're ready.\n",
              "        channel.send({})\n",
              "        if (message.buffers) {\n",
              "          for (const buffer of message.buffers) {\n",
              "            buffers.push(buffer);\n",
              "            downloaded += buffer.byteLength;\n",
              "            progress.value = downloaded;\n",
              "          }\n",
              "        }\n",
              "      }\n",
              "      const blob = new Blob(buffers, {type: 'application/binary'});\n",
              "      const a = document.createElement('a');\n",
              "      a.href = window.URL.createObjectURL(blob);\n",
              "      a.download = filename;\n",
              "      div.appendChild(a);\n",
              "      a.click();\n",
              "      div.remove();\n",
              "    }\n",
              "  "
            ]
          },
          "metadata": {}
        },
        {
          "output_type": "display_data",
          "data": {
            "text/plain": [
              "<IPython.core.display.Javascript object>"
            ],
            "application/javascript": [
              "download(\"download_082ebaaf-cf0d-464e-bd03-b5c1d8ecbbb1\", \"heart_failure.labels.train\", 11332)"
            ]
          },
          "metadata": {}
        },
        {
          "output_type": "display_data",
          "data": {
            "text/plain": [
              "<IPython.core.display.Javascript object>"
            ],
            "application/javascript": [
              "\n",
              "    async function download(id, filename, size) {\n",
              "      if (!google.colab.kernel.accessAllowed) {\n",
              "        return;\n",
              "      }\n",
              "      const div = document.createElement('div');\n",
              "      const label = document.createElement('label');\n",
              "      label.textContent = `Downloading \"${filename}\": `;\n",
              "      div.appendChild(label);\n",
              "      const progress = document.createElement('progress');\n",
              "      progress.max = size;\n",
              "      div.appendChild(progress);\n",
              "      document.body.appendChild(div);\n",
              "\n",
              "      const buffers = [];\n",
              "      let downloaded = 0;\n",
              "\n",
              "      const channel = await google.colab.kernel.comms.open(id);\n",
              "      // Send a message to notify the kernel that we're ready.\n",
              "      channel.send({})\n",
              "\n",
              "      for await (const message of channel.messages) {\n",
              "        // Send a message to notify the kernel that we're ready.\n",
              "        channel.send({})\n",
              "        if (message.buffers) {\n",
              "          for (const buffer of message.buffers) {\n",
              "            buffers.push(buffer);\n",
              "            downloaded += buffer.byteLength;\n",
              "            progress.value = downloaded;\n",
              "          }\n",
              "        }\n",
              "      }\n",
              "      const blob = new Blob(buffers, {type: 'application/binary'});\n",
              "      const a = document.createElement('a');\n",
              "      a.href = window.URL.createObjectURL(blob);\n",
              "      a.download = filename;\n",
              "      div.appendChild(a);\n",
              "      a.click();\n",
              "      div.remove();\n",
              "    }\n",
              "  "
            ]
          },
          "metadata": {}
        },
        {
          "output_type": "display_data",
          "data": {
            "text/plain": [
              "<IPython.core.display.Javascript object>"
            ],
            "application/javascript": [
              "download(\"download_d591c488-6cd7-4dbb-84e1-471098a82952\", \"heart_failure.seqs.train\", 574350)"
            ]
          },
          "metadata": {}
        }
      ]
    },
    {
      "cell_type": "code",
      "source": [
        "# construct heart failure validation set\n",
        "pickle.dump(heart_failure_ids_validation, open(\"heart_failure.ids.validation\", 'wb'), pickle.HIGHEST_PROTOCOL)\n",
        "pickle.dump(heart_failure_labels_validation, open(\"heart_failure.labels.validation\", 'wb'), pickle.HIGHEST_PROTOCOL)\n",
        "pickle.dump(heart_failure_seqs_validation, open(\"heart_failure.seqs.validation\", 'wb'), pickle.HIGHEST_PROTOCOL)\n",
        "files.download(\"heart_failure.ids.validation\")\n",
        "files.download(\"heart_failure.labels.validation\")\n",
        "files.download(\"heart_failure.seqs.validation\")"
      ],
      "metadata": {
        "colab": {
          "base_uri": "https://localhost:8080/",
          "height": 17
        },
        "id": "wf_Pik503pSc",
        "outputId": "889de8be-448f-40f3-e6fe-07788112c58f"
      },
      "execution_count": 32,
      "outputs": [
        {
          "output_type": "display_data",
          "data": {
            "text/plain": [
              "<IPython.core.display.Javascript object>"
            ],
            "application/javascript": [
              "\n",
              "    async function download(id, filename, size) {\n",
              "      if (!google.colab.kernel.accessAllowed) {\n",
              "        return;\n",
              "      }\n",
              "      const div = document.createElement('div');\n",
              "      const label = document.createElement('label');\n",
              "      label.textContent = `Downloading \"${filename}\": `;\n",
              "      div.appendChild(label);\n",
              "      const progress = document.createElement('progress');\n",
              "      progress.max = size;\n",
              "      div.appendChild(progress);\n",
              "      document.body.appendChild(div);\n",
              "\n",
              "      const buffers = [];\n",
              "      let downloaded = 0;\n",
              "\n",
              "      const channel = await google.colab.kernel.comms.open(id);\n",
              "      // Send a message to notify the kernel that we're ready.\n",
              "      channel.send({})\n",
              "\n",
              "      for await (const message of channel.messages) {\n",
              "        // Send a message to notify the kernel that we're ready.\n",
              "        channel.send({})\n",
              "        if (message.buffers) {\n",
              "          for (const buffer of message.buffers) {\n",
              "            buffers.push(buffer);\n",
              "            downloaded += buffer.byteLength;\n",
              "            progress.value = downloaded;\n",
              "          }\n",
              "        }\n",
              "      }\n",
              "      const blob = new Blob(buffers, {type: 'application/binary'});\n",
              "      const a = document.createElement('a');\n",
              "      a.href = window.URL.createObjectURL(blob);\n",
              "      a.download = filename;\n",
              "      div.appendChild(a);\n",
              "      a.click();\n",
              "      div.remove();\n",
              "    }\n",
              "  "
            ]
          },
          "metadata": {}
        },
        {
          "output_type": "display_data",
          "data": {
            "text/plain": [
              "<IPython.core.display.Javascript object>"
            ],
            "application/javascript": [
              "download(\"download_88b5e296-e638-4603-953c-b40b8fc30842\", \"heart_failure.ids.validation\", 2544)"
            ]
          },
          "metadata": {}
        },
        {
          "output_type": "display_data",
          "data": {
            "text/plain": [
              "<IPython.core.display.Javascript object>"
            ],
            "application/javascript": [
              "\n",
              "    async function download(id, filename, size) {\n",
              "      if (!google.colab.kernel.accessAllowed) {\n",
              "        return;\n",
              "      }\n",
              "      const div = document.createElement('div');\n",
              "      const label = document.createElement('label');\n",
              "      label.textContent = `Downloading \"${filename}\": `;\n",
              "      div.appendChild(label);\n",
              "      const progress = document.createElement('progress');\n",
              "      progress.max = size;\n",
              "      div.appendChild(progress);\n",
              "      document.body.appendChild(div);\n",
              "\n",
              "      const buffers = [];\n",
              "      let downloaded = 0;\n",
              "\n",
              "      const channel = await google.colab.kernel.comms.open(id);\n",
              "      // Send a message to notify the kernel that we're ready.\n",
              "      channel.send({})\n",
              "\n",
              "      for await (const message of channel.messages) {\n",
              "        // Send a message to notify the kernel that we're ready.\n",
              "        channel.send({})\n",
              "        if (message.buffers) {\n",
              "          for (const buffer of message.buffers) {\n",
              "            buffers.push(buffer);\n",
              "            downloaded += buffer.byteLength;\n",
              "            progress.value = downloaded;\n",
              "          }\n",
              "        }\n",
              "      }\n",
              "      const blob = new Blob(buffers, {type: 'application/binary'});\n",
              "      const a = document.createElement('a');\n",
              "      a.href = window.URL.createObjectURL(blob);\n",
              "      a.download = filename;\n",
              "      div.appendChild(a);\n",
              "      a.click();\n",
              "      div.remove();\n",
              "    }\n",
              "  "
            ]
          },
          "metadata": {}
        },
        {
          "output_type": "display_data",
          "data": {
            "text/plain": [
              "<IPython.core.display.Javascript object>"
            ],
            "application/javascript": [
              "download(\"download_7d2586f1-836c-4497-a63f-db044dc141bb\", \"heart_failure.labels.validation\", 1524)"
            ]
          },
          "metadata": {}
        },
        {
          "output_type": "display_data",
          "data": {
            "text/plain": [
              "<IPython.core.display.Javascript object>"
            ],
            "application/javascript": [
              "\n",
              "    async function download(id, filename, size) {\n",
              "      if (!google.colab.kernel.accessAllowed) {\n",
              "        return;\n",
              "      }\n",
              "      const div = document.createElement('div');\n",
              "      const label = document.createElement('label');\n",
              "      label.textContent = `Downloading \"${filename}\": `;\n",
              "      div.appendChild(label);\n",
              "      const progress = document.createElement('progress');\n",
              "      progress.max = size;\n",
              "      div.appendChild(progress);\n",
              "      document.body.appendChild(div);\n",
              "\n",
              "      const buffers = [];\n",
              "      let downloaded = 0;\n",
              "\n",
              "      const channel = await google.colab.kernel.comms.open(id);\n",
              "      // Send a message to notify the kernel that we're ready.\n",
              "      channel.send({})\n",
              "\n",
              "      for await (const message of channel.messages) {\n",
              "        // Send a message to notify the kernel that we're ready.\n",
              "        channel.send({})\n",
              "        if (message.buffers) {\n",
              "          for (const buffer of message.buffers) {\n",
              "            buffers.push(buffer);\n",
              "            downloaded += buffer.byteLength;\n",
              "            progress.value = downloaded;\n",
              "          }\n",
              "        }\n",
              "      }\n",
              "      const blob = new Blob(buffers, {type: 'application/binary'});\n",
              "      const a = document.createElement('a');\n",
              "      a.href = window.URL.createObjectURL(blob);\n",
              "      a.download = filename;\n",
              "      div.appendChild(a);\n",
              "      a.click();\n",
              "      div.remove();\n",
              "    }\n",
              "  "
            ]
          },
          "metadata": {}
        },
        {
          "output_type": "display_data",
          "data": {
            "text/plain": [
              "<IPython.core.display.Javascript object>"
            ],
            "application/javascript": [
              "download(\"download_2e069962-5b95-458a-8312-b1c309b592d0\", \"heart_failure.seqs.validation\", 77165)"
            ]
          },
          "metadata": {}
        }
      ]
    },
    {
      "cell_type": "code",
      "source": [
        "# construct heart failure test set\n",
        "pickle.dump(heart_failure_ids_test, open(\"heart_failure.ids.test\", 'wb'), pickle.HIGHEST_PROTOCOL)\n",
        "pickle.dump(heart_failure_labels_test, open(\"heart_failure.labels.test\", 'wb'), pickle.HIGHEST_PROTOCOL)\n",
        "pickle.dump(heart_failure_seqs_test, open(\"heart_failure.seqs.test\", 'wb'), pickle.HIGHEST_PROTOCOL)\n",
        "files.download(\"heart_failure.ids.test\")\n",
        "files.download(\"heart_failure.labels.test\")\n",
        "files.download(\"heart_failure.seqs.test\")"
      ],
      "metadata": {
        "colab": {
          "base_uri": "https://localhost:8080/",
          "height": 17
        },
        "id": "DH7NVYuz39hb",
        "outputId": "eec88ccb-7dff-4346-ef18-4b4e4d6f1a88"
      },
      "execution_count": 33,
      "outputs": [
        {
          "output_type": "display_data",
          "data": {
            "text/plain": [
              "<IPython.core.display.Javascript object>"
            ],
            "application/javascript": [
              "\n",
              "    async function download(id, filename, size) {\n",
              "      if (!google.colab.kernel.accessAllowed) {\n",
              "        return;\n",
              "      }\n",
              "      const div = document.createElement('div');\n",
              "      const label = document.createElement('label');\n",
              "      label.textContent = `Downloading \"${filename}\": `;\n",
              "      div.appendChild(label);\n",
              "      const progress = document.createElement('progress');\n",
              "      progress.max = size;\n",
              "      div.appendChild(progress);\n",
              "      document.body.appendChild(div);\n",
              "\n",
              "      const buffers = [];\n",
              "      let downloaded = 0;\n",
              "\n",
              "      const channel = await google.colab.kernel.comms.open(id);\n",
              "      // Send a message to notify the kernel that we're ready.\n",
              "      channel.send({})\n",
              "\n",
              "      for await (const message of channel.messages) {\n",
              "        // Send a message to notify the kernel that we're ready.\n",
              "        channel.send({})\n",
              "        if (message.buffers) {\n",
              "          for (const buffer of message.buffers) {\n",
              "            buffers.push(buffer);\n",
              "            downloaded += buffer.byteLength;\n",
              "            progress.value = downloaded;\n",
              "          }\n",
              "        }\n",
              "      }\n",
              "      const blob = new Blob(buffers, {type: 'application/binary'});\n",
              "      const a = document.createElement('a');\n",
              "      a.href = window.URL.createObjectURL(blob);\n",
              "      a.download = filename;\n",
              "      div.appendChild(a);\n",
              "      a.click();\n",
              "      div.remove();\n",
              "    }\n",
              "  "
            ]
          },
          "metadata": {}
        },
        {
          "output_type": "display_data",
          "data": {
            "text/plain": [
              "<IPython.core.display.Javascript object>"
            ],
            "application/javascript": [
              "download(\"download_ca16006f-f13a-43b7-a72e-df265476f5bf\", \"heart_failure.ids.test\", 3782)"
            ]
          },
          "metadata": {}
        },
        {
          "output_type": "display_data",
          "data": {
            "text/plain": [
              "<IPython.core.display.Javascript object>"
            ],
            "application/javascript": [
              "\n",
              "    async function download(id, filename, size) {\n",
              "      if (!google.colab.kernel.accessAllowed) {\n",
              "        return;\n",
              "      }\n",
              "      const div = document.createElement('div');\n",
              "      const label = document.createElement('label');\n",
              "      label.textContent = `Downloading \"${filename}\": `;\n",
              "      div.appendChild(label);\n",
              "      const progress = document.createElement('progress');\n",
              "      progress.max = size;\n",
              "      div.appendChild(progress);\n",
              "      document.body.appendChild(div);\n",
              "\n",
              "      const buffers = [];\n",
              "      let downloaded = 0;\n",
              "\n",
              "      const channel = await google.colab.kernel.comms.open(id);\n",
              "      // Send a message to notify the kernel that we're ready.\n",
              "      channel.send({})\n",
              "\n",
              "      for await (const message of channel.messages) {\n",
              "        // Send a message to notify the kernel that we're ready.\n",
              "        channel.send({})\n",
              "        if (message.buffers) {\n",
              "          for (const buffer of message.buffers) {\n",
              "            buffers.push(buffer);\n",
              "            downloaded += buffer.byteLength;\n",
              "            progress.value = downloaded;\n",
              "          }\n",
              "        }\n",
              "      }\n",
              "      const blob = new Blob(buffers, {type: 'application/binary'});\n",
              "      const a = document.createElement('a');\n",
              "      a.href = window.URL.createObjectURL(blob);\n",
              "      a.download = filename;\n",
              "      div.appendChild(a);\n",
              "      a.click();\n",
              "      div.remove();\n",
              "    }\n",
              "  "
            ]
          },
          "metadata": {}
        },
        {
          "output_type": "display_data",
          "data": {
            "text/plain": [
              "<IPython.core.display.Javascript object>"
            ],
            "application/javascript": [
              "download(\"download_e1203fc7-a1e3-4ea3-9afd-5db9c7183ea0\", \"heart_failure.labels.test\", 2278)"
            ]
          },
          "metadata": {}
        },
        {
          "output_type": "display_data",
          "data": {
            "text/plain": [
              "<IPython.core.display.Javascript object>"
            ],
            "application/javascript": [
              "\n",
              "    async function download(id, filename, size) {\n",
              "      if (!google.colab.kernel.accessAllowed) {\n",
              "        return;\n",
              "      }\n",
              "      const div = document.createElement('div');\n",
              "      const label = document.createElement('label');\n",
              "      label.textContent = `Downloading \"${filename}\": `;\n",
              "      div.appendChild(label);\n",
              "      const progress = document.createElement('progress');\n",
              "      progress.max = size;\n",
              "      div.appendChild(progress);\n",
              "      document.body.appendChild(div);\n",
              "\n",
              "      const buffers = [];\n",
              "      let downloaded = 0;\n",
              "\n",
              "      const channel = await google.colab.kernel.comms.open(id);\n",
              "      // Send a message to notify the kernel that we're ready.\n",
              "      channel.send({})\n",
              "\n",
              "      for await (const message of channel.messages) {\n",
              "        // Send a message to notify the kernel that we're ready.\n",
              "        channel.send({})\n",
              "        if (message.buffers) {\n",
              "          for (const buffer of message.buffers) {\n",
              "            buffers.push(buffer);\n",
              "            downloaded += buffer.byteLength;\n",
              "            progress.value = downloaded;\n",
              "          }\n",
              "        }\n",
              "      }\n",
              "      const blob = new Blob(buffers, {type: 'application/binary'});\n",
              "      const a = document.createElement('a');\n",
              "      a.href = window.URL.createObjectURL(blob);\n",
              "      a.download = filename;\n",
              "      div.appendChild(a);\n",
              "      a.click();\n",
              "      div.remove();\n",
              "    }\n",
              "  "
            ]
          },
          "metadata": {}
        },
        {
          "output_type": "display_data",
          "data": {
            "text/plain": [
              "<IPython.core.display.Javascript object>"
            ],
            "application/javascript": [
              "download(\"download_762c4b64-97ca-440d-ac33-2fdebc468a91\", \"heart_failure.seqs.test\", 111696)"
            ]
          },
          "metadata": {}
        }
      ]
    },
    {
      "cell_type": "code",
      "source": [
        "# split readmission dataset into train, validation, test = (0.75, 0.1, 0.15)\n",
        "# first split the patients with readmission label, then join each dataset with admission_diagnosis table\n",
        "print(len(df_readmissions['SUBJECT_ID'].unique()))\n",
        "train_readm = df_readmissions.sample(frac = 0.75)\n",
        "val_test_readm = df_readmissions.drop(train_readm.index)\n",
        "validation_readm = val_test_readm.sample(frac = 0.40)\n",
        "test_readm = val_test_readm.drop(validation_readm.index)\n",
        "train_readm_data = pd.merge(train_readm, df_merge_adm_diag, on='SUBJECT_ID', how='left')\n",
        "print(train_readm_data.shape)\n",
        "print(len(train_readm_data['SUBJECT_ID'].unique()))\n",
        "validation_readm_data = pd.merge(validation_readm, df_merge_adm_diag, on='SUBJECT_ID', how='left')\n",
        "print(len(validation_readm_data['SUBJECT_ID'].unique()))\n",
        "test_readm_data = pd.merge(test_readm, df_merge_adm_diag, on='SUBJECT_ID', how='left')\n",
        "print(len(test_readm_data['SUBJECT_ID'].unique()))\n",
        "\n",
        "# create sepsis train, validation, test custom dataset\n",
        "\n",
        "readmission_ids_train, readmission_labels_train, readmission_seqs_train = create_dataset(train_readm_data, df_readmissions, codemap, convert_to_icd9)\n",
        "readmission_ids_validation, readmission_labels_validation, readmission_seqs_validation = create_dataset(validation_readm_data, df_readmissions, codemap, convert_to_icd9)\n",
        "readmission_ids_test, readmission_labels_test, readmission_seqs_test = create_dataset(test_readm_data, df_readmissions, codemap, convert_to_icd9)"
      ],
      "metadata": {
        "colab": {
          "base_uri": "https://localhost:8080/"
        },
        "id": "Jn2-CctPR30Q",
        "outputId": "b4302561-e334-4432-c108-e0b6b811213f"
      },
      "execution_count": 34,
      "outputs": [
        {
          "output_type": "stream",
          "name": "stdout",
          "text": [
            "46520\n",
            "(227027, 9)\n",
            "34890\n",
            "4652\n",
            "6978\n"
          ]
        }
      ]
    },
    {
      "cell_type": "code",
      "source": [
        "# construct readmission train set\n",
        "pickle.dump(readmission_ids_train, open(\"readmission.ids.train\", 'wb'), pickle.HIGHEST_PROTOCOL)\n",
        "pickle.dump(readmission_labels_train, open(\"readmission.labels.train\", 'wb'), pickle.HIGHEST_PROTOCOL)\n",
        "pickle.dump(readmission_seqs_train, open(\"readmission.seqs.train\", 'wb'), pickle.HIGHEST_PROTOCOL)\n",
        "files.download(\"readmission.ids.train\")\n",
        "files.download(\"readmission.labels.train\")\n",
        "files.download(\"readmission.seqs.train\")"
      ],
      "metadata": {
        "colab": {
          "base_uri": "https://localhost:8080/",
          "height": 17
        },
        "id": "bXZfTB_Q4Smu",
        "outputId": "51d484bf-3fe2-4e45-ab8b-bf0d68c20f8c"
      },
      "execution_count": 35,
      "outputs": [
        {
          "output_type": "display_data",
          "data": {
            "text/plain": [
              "<IPython.core.display.Javascript object>"
            ],
            "application/javascript": [
              "\n",
              "    async function download(id, filename, size) {\n",
              "      if (!google.colab.kernel.accessAllowed) {\n",
              "        return;\n",
              "      }\n",
              "      const div = document.createElement('div');\n",
              "      const label = document.createElement('label');\n",
              "      label.textContent = `Downloading \"${filename}\": `;\n",
              "      div.appendChild(label);\n",
              "      const progress = document.createElement('progress');\n",
              "      progress.max = size;\n",
              "      div.appendChild(progress);\n",
              "      document.body.appendChild(div);\n",
              "\n",
              "      const buffers = [];\n",
              "      let downloaded = 0;\n",
              "\n",
              "      const channel = await google.colab.kernel.comms.open(id);\n",
              "      // Send a message to notify the kernel that we're ready.\n",
              "      channel.send({})\n",
              "\n",
              "      for await (const message of channel.messages) {\n",
              "        // Send a message to notify the kernel that we're ready.\n",
              "        channel.send({})\n",
              "        if (message.buffers) {\n",
              "          for (const buffer of message.buffers) {\n",
              "            buffers.push(buffer);\n",
              "            downloaded += buffer.byteLength;\n",
              "            progress.value = downloaded;\n",
              "          }\n",
              "        }\n",
              "      }\n",
              "      const blob = new Blob(buffers, {type: 'application/binary'});\n",
              "      const a = document.createElement('a');\n",
              "      a.href = window.URL.createObjectURL(blob);\n",
              "      a.download = filename;\n",
              "      div.appendChild(a);\n",
              "      a.click();\n",
              "      div.remove();\n",
              "    }\n",
              "  "
            ]
          },
          "metadata": {}
        },
        {
          "output_type": "display_data",
          "data": {
            "text/plain": [
              "<IPython.core.display.Javascript object>"
            ],
            "application/javascript": [
              "download(\"download_e6211a7a-2d32-4248-b401-36936f5e01d4\", \"readmission.ids.train\", 19216)"
            ]
          },
          "metadata": {}
        },
        {
          "output_type": "display_data",
          "data": {
            "text/plain": [
              "<IPython.core.display.Javascript object>"
            ],
            "application/javascript": [
              "\n",
              "    async function download(id, filename, size) {\n",
              "      if (!google.colab.kernel.accessAllowed) {\n",
              "        return;\n",
              "      }\n",
              "      const div = document.createElement('div');\n",
              "      const label = document.createElement('label');\n",
              "      label.textContent = `Downloading \"${filename}\": `;\n",
              "      div.appendChild(label);\n",
              "      const progress = document.createElement('progress');\n",
              "      progress.max = size;\n",
              "      div.appendChild(progress);\n",
              "      document.body.appendChild(div);\n",
              "\n",
              "      const buffers = [];\n",
              "      let downloaded = 0;\n",
              "\n",
              "      const channel = await google.colab.kernel.comms.open(id);\n",
              "      // Send a message to notify the kernel that we're ready.\n",
              "      channel.send({})\n",
              "\n",
              "      for await (const message of channel.messages) {\n",
              "        // Send a message to notify the kernel that we're ready.\n",
              "        channel.send({})\n",
              "        if (message.buffers) {\n",
              "          for (const buffer of message.buffers) {\n",
              "            buffers.push(buffer);\n",
              "            downloaded += buffer.byteLength;\n",
              "            progress.value = downloaded;\n",
              "          }\n",
              "        }\n",
              "      }\n",
              "      const blob = new Blob(buffers, {type: 'application/binary'});\n",
              "      const a = document.createElement('a');\n",
              "      a.href = window.URL.createObjectURL(blob);\n",
              "      a.download = filename;\n",
              "      div.appendChild(a);\n",
              "      a.click();\n",
              "      div.remove();\n",
              "    }\n",
              "  "
            ]
          },
          "metadata": {}
        },
        {
          "output_type": "display_data",
          "data": {
            "text/plain": [
              "<IPython.core.display.Javascript object>"
            ],
            "application/javascript": [
              "download(\"download_5c5ac8e7-bee8-410c-b314-57c7d30be720\", \"readmission.labels.train\", 11452)"
            ]
          },
          "metadata": {}
        },
        {
          "output_type": "display_data",
          "data": {
            "text/plain": [
              "<IPython.core.display.Javascript object>"
            ],
            "application/javascript": [
              "\n",
              "    async function download(id, filename, size) {\n",
              "      if (!google.colab.kernel.accessAllowed) {\n",
              "        return;\n",
              "      }\n",
              "      const div = document.createElement('div');\n",
              "      const label = document.createElement('label');\n",
              "      label.textContent = `Downloading \"${filename}\": `;\n",
              "      div.appendChild(label);\n",
              "      const progress = document.createElement('progress');\n",
              "      progress.max = size;\n",
              "      div.appendChild(progress);\n",
              "      document.body.appendChild(div);\n",
              "\n",
              "      const buffers = [];\n",
              "      let downloaded = 0;\n",
              "\n",
              "      const channel = await google.colab.kernel.comms.open(id);\n",
              "      // Send a message to notify the kernel that we're ready.\n",
              "      channel.send({})\n",
              "\n",
              "      for await (const message of channel.messages) {\n",
              "        // Send a message to notify the kernel that we're ready.\n",
              "        channel.send({})\n",
              "        if (message.buffers) {\n",
              "          for (const buffer of message.buffers) {\n",
              "            buffers.push(buffer);\n",
              "            downloaded += buffer.byteLength;\n",
              "            progress.value = downloaded;\n",
              "          }\n",
              "        }\n",
              "      }\n",
              "      const blob = new Blob(buffers, {type: 'application/binary'});\n",
              "      const a = document.createElement('a');\n",
              "      a.href = window.URL.createObjectURL(blob);\n",
              "      a.download = filename;\n",
              "      div.appendChild(a);\n",
              "      a.click();\n",
              "      div.remove();\n",
              "    }\n",
              "  "
            ]
          },
          "metadata": {}
        },
        {
          "output_type": "display_data",
          "data": {
            "text/plain": [
              "<IPython.core.display.Javascript object>"
            ],
            "application/javascript": [
              "download(\"download_41678559-e175-48cf-bc74-6adf3bf53dc9\", \"readmission.seqs.train\", 1864274)"
            ]
          },
          "metadata": {}
        }
      ]
    },
    {
      "cell_type": "code",
      "source": [
        "# construct readmission validation set\n",
        "pickle.dump(readmission_ids_validation, open(\"readmission.ids.validation\", 'wb'), pickle.HIGHEST_PROTOCOL)\n",
        "pickle.dump(readmission_labels_validation, open(\"readmission.labels.validation\", 'wb'), pickle.HIGHEST_PROTOCOL)\n",
        "pickle.dump(readmission_seqs_validation, open(\"readmission.seqs.validation\", 'wb'), pickle.HIGHEST_PROTOCOL)\n",
        "files.download(\"readmission.ids.validation\")\n",
        "files.download(\"readmission.labels.validation\")\n",
        "files.download(\"readmission.seqs.validation\")"
      ],
      "metadata": {
        "colab": {
          "base_uri": "https://localhost:8080/",
          "height": 17
        },
        "id": "n3lZUzkB4S50",
        "outputId": "70294439-080f-4a17-e12c-9ceebdf00a5e"
      },
      "execution_count": 36,
      "outputs": [
        {
          "output_type": "display_data",
          "data": {
            "text/plain": [
              "<IPython.core.display.Javascript object>"
            ],
            "application/javascript": [
              "\n",
              "    async function download(id, filename, size) {\n",
              "      if (!google.colab.kernel.accessAllowed) {\n",
              "        return;\n",
              "      }\n",
              "      const div = document.createElement('div');\n",
              "      const label = document.createElement('label');\n",
              "      label.textContent = `Downloading \"${filename}\": `;\n",
              "      div.appendChild(label);\n",
              "      const progress = document.createElement('progress');\n",
              "      progress.max = size;\n",
              "      div.appendChild(progress);\n",
              "      document.body.appendChild(div);\n",
              "\n",
              "      const buffers = [];\n",
              "      let downloaded = 0;\n",
              "\n",
              "      const channel = await google.colab.kernel.comms.open(id);\n",
              "      // Send a message to notify the kernel that we're ready.\n",
              "      channel.send({})\n",
              "\n",
              "      for await (const message of channel.messages) {\n",
              "        // Send a message to notify the kernel that we're ready.\n",
              "        channel.send({})\n",
              "        if (message.buffers) {\n",
              "          for (const buffer of message.buffers) {\n",
              "            buffers.push(buffer);\n",
              "            downloaded += buffer.byteLength;\n",
              "            progress.value = downloaded;\n",
              "          }\n",
              "        }\n",
              "      }\n",
              "      const blob = new Blob(buffers, {type: 'application/binary'});\n",
              "      const a = document.createElement('a');\n",
              "      a.href = window.URL.createObjectURL(blob);\n",
              "      a.download = filename;\n",
              "      div.appendChild(a);\n",
              "      a.click();\n",
              "      div.remove();\n",
              "    }\n",
              "  "
            ]
          },
          "metadata": {}
        },
        {
          "output_type": "display_data",
          "data": {
            "text/plain": [
              "<IPython.core.display.Javascript object>"
            ],
            "application/javascript": [
              "download(\"download_b506d25f-0470-41eb-845f-8662acac3e95\", \"readmission.ids.validation\", 2506)"
            ]
          },
          "metadata": {}
        },
        {
          "output_type": "display_data",
          "data": {
            "text/plain": [
              "<IPython.core.display.Javascript object>"
            ],
            "application/javascript": [
              "\n",
              "    async function download(id, filename, size) {\n",
              "      if (!google.colab.kernel.accessAllowed) {\n",
              "        return;\n",
              "      }\n",
              "      const div = document.createElement('div');\n",
              "      const label = document.createElement('label');\n",
              "      label.textContent = `Downloading \"${filename}\": `;\n",
              "      div.appendChild(label);\n",
              "      const progress = document.createElement('progress');\n",
              "      progress.max = size;\n",
              "      div.appendChild(progress);\n",
              "      document.body.appendChild(div);\n",
              "\n",
              "      const buffers = [];\n",
              "      let downloaded = 0;\n",
              "\n",
              "      const channel = await google.colab.kernel.comms.open(id);\n",
              "      // Send a message to notify the kernel that we're ready.\n",
              "      channel.send({})\n",
              "\n",
              "      for await (const message of channel.messages) {\n",
              "        // Send a message to notify the kernel that we're ready.\n",
              "        channel.send({})\n",
              "        if (message.buffers) {\n",
              "          for (const buffer of message.buffers) {\n",
              "            buffers.push(buffer);\n",
              "            downloaded += buffer.byteLength;\n",
              "            progress.value = downloaded;\n",
              "          }\n",
              "        }\n",
              "      }\n",
              "      const blob = new Blob(buffers, {type: 'application/binary'});\n",
              "      const a = document.createElement('a');\n",
              "      a.href = window.URL.createObjectURL(blob);\n",
              "      a.download = filename;\n",
              "      div.appendChild(a);\n",
              "      a.click();\n",
              "      div.remove();\n",
              "    }\n",
              "  "
            ]
          },
          "metadata": {}
        },
        {
          "output_type": "display_data",
          "data": {
            "text/plain": [
              "<IPython.core.display.Javascript object>"
            ],
            "application/javascript": [
              "download(\"download_8c01a17d-399b-4627-a04b-6b15a716fd13\", \"readmission.labels.validation\", 1470)"
            ]
          },
          "metadata": {}
        },
        {
          "output_type": "display_data",
          "data": {
            "text/plain": [
              "<IPython.core.display.Javascript object>"
            ],
            "application/javascript": [
              "\n",
              "    async function download(id, filename, size) {\n",
              "      if (!google.colab.kernel.accessAllowed) {\n",
              "        return;\n",
              "      }\n",
              "      const div = document.createElement('div');\n",
              "      const label = document.createElement('label');\n",
              "      label.textContent = `Downloading \"${filename}\": `;\n",
              "      div.appendChild(label);\n",
              "      const progress = document.createElement('progress');\n",
              "      progress.max = size;\n",
              "      div.appendChild(progress);\n",
              "      document.body.appendChild(div);\n",
              "\n",
              "      const buffers = [];\n",
              "      let downloaded = 0;\n",
              "\n",
              "      const channel = await google.colab.kernel.comms.open(id);\n",
              "      // Send a message to notify the kernel that we're ready.\n",
              "      channel.send({})\n",
              "\n",
              "      for await (const message of channel.messages) {\n",
              "        // Send a message to notify the kernel that we're ready.\n",
              "        channel.send({})\n",
              "        if (message.buffers) {\n",
              "          for (const buffer of message.buffers) {\n",
              "            buffers.push(buffer);\n",
              "            downloaded += buffer.byteLength;\n",
              "            progress.value = downloaded;\n",
              "          }\n",
              "        }\n",
              "      }\n",
              "      const blob = new Blob(buffers, {type: 'application/binary'});\n",
              "      const a = document.createElement('a');\n",
              "      a.href = window.URL.createObjectURL(blob);\n",
              "      a.download = filename;\n",
              "      div.appendChild(a);\n",
              "      a.click();\n",
              "      div.remove();\n",
              "    }\n",
              "  "
            ]
          },
          "metadata": {}
        },
        {
          "output_type": "display_data",
          "data": {
            "text/plain": [
              "<IPython.core.display.Javascript object>"
            ],
            "application/javascript": [
              "download(\"download_4f0989ee-a448-4f87-9251-4b5ea62a297a\", \"readmission.seqs.validation\", 238126)"
            ]
          },
          "metadata": {}
        }
      ]
    },
    {
      "cell_type": "code",
      "source": [
        "# construct readmission test set\n",
        "pickle.dump(readmission_ids_test, open(\"readmission.ids.test\", 'wb'), pickle.HIGHEST_PROTOCOL)\n",
        "pickle.dump(readmission_labels_test, open(\"readmission.labels.test\", 'wb'), pickle.HIGHEST_PROTOCOL)\n",
        "pickle.dump(readmission_seqs_test, open(\"readmission.seqs.test\", 'wb'), pickle.HIGHEST_PROTOCOL)\n",
        "files.download(\"readmission.ids.test\")\n",
        "files.download(\"readmission.labels.test\")\n",
        "files.download(\"readmission.seqs.test\")"
      ],
      "metadata": {
        "colab": {
          "base_uri": "https://localhost:8080/",
          "height": 17
        },
        "id": "H9VQIl6o4TBz",
        "outputId": "5fd9d556-3423-4dea-9fdb-772142f05595"
      },
      "execution_count": 37,
      "outputs": [
        {
          "output_type": "display_data",
          "data": {
            "text/plain": [
              "<IPython.core.display.Javascript object>"
            ],
            "application/javascript": [
              "\n",
              "    async function download(id, filename, size) {\n",
              "      if (!google.colab.kernel.accessAllowed) {\n",
              "        return;\n",
              "      }\n",
              "      const div = document.createElement('div');\n",
              "      const label = document.createElement('label');\n",
              "      label.textContent = `Downloading \"${filename}\": `;\n",
              "      div.appendChild(label);\n",
              "      const progress = document.createElement('progress');\n",
              "      progress.max = size;\n",
              "      div.appendChild(progress);\n",
              "      document.body.appendChild(div);\n",
              "\n",
              "      const buffers = [];\n",
              "      let downloaded = 0;\n",
              "\n",
              "      const channel = await google.colab.kernel.comms.open(id);\n",
              "      // Send a message to notify the kernel that we're ready.\n",
              "      channel.send({})\n",
              "\n",
              "      for await (const message of channel.messages) {\n",
              "        // Send a message to notify the kernel that we're ready.\n",
              "        channel.send({})\n",
              "        if (message.buffers) {\n",
              "          for (const buffer of message.buffers) {\n",
              "            buffers.push(buffer);\n",
              "            downloaded += buffer.byteLength;\n",
              "            progress.value = downloaded;\n",
              "          }\n",
              "        }\n",
              "      }\n",
              "      const blob = new Blob(buffers, {type: 'application/binary'});\n",
              "      const a = document.createElement('a');\n",
              "      a.href = window.URL.createObjectURL(blob);\n",
              "      a.download = filename;\n",
              "      div.appendChild(a);\n",
              "      a.click();\n",
              "      div.remove();\n",
              "    }\n",
              "  "
            ]
          },
          "metadata": {}
        },
        {
          "output_type": "display_data",
          "data": {
            "text/plain": [
              "<IPython.core.display.Javascript object>"
            ],
            "application/javascript": [
              "download(\"download_6281fc64-d12b-49a5-a468-716ef8fb3ce0\", \"readmission.ids.test\", 3679)"
            ]
          },
          "metadata": {}
        },
        {
          "output_type": "display_data",
          "data": {
            "text/plain": [
              "<IPython.core.display.Javascript object>"
            ],
            "application/javascript": [
              "\n",
              "    async function download(id, filename, size) {\n",
              "      if (!google.colab.kernel.accessAllowed) {\n",
              "        return;\n",
              "      }\n",
              "      const div = document.createElement('div');\n",
              "      const label = document.createElement('label');\n",
              "      label.textContent = `Downloading \"${filename}\": `;\n",
              "      div.appendChild(label);\n",
              "      const progress = document.createElement('progress');\n",
              "      progress.max = size;\n",
              "      div.appendChild(progress);\n",
              "      document.body.appendChild(div);\n",
              "\n",
              "      const buffers = [];\n",
              "      let downloaded = 0;\n",
              "\n",
              "      const channel = await google.colab.kernel.comms.open(id);\n",
              "      // Send a message to notify the kernel that we're ready.\n",
              "      channel.send({})\n",
              "\n",
              "      for await (const message of channel.messages) {\n",
              "        // Send a message to notify the kernel that we're ready.\n",
              "        channel.send({})\n",
              "        if (message.buffers) {\n",
              "          for (const buffer of message.buffers) {\n",
              "            buffers.push(buffer);\n",
              "            downloaded += buffer.byteLength;\n",
              "            progress.value = downloaded;\n",
              "          }\n",
              "        }\n",
              "      }\n",
              "      const blob = new Blob(buffers, {type: 'application/binary'});\n",
              "      const a = document.createElement('a');\n",
              "      a.href = window.URL.createObjectURL(blob);\n",
              "      a.download = filename;\n",
              "      div.appendChild(a);\n",
              "      a.click();\n",
              "      div.remove();\n",
              "    }\n",
              "  "
            ]
          },
          "metadata": {}
        },
        {
          "output_type": "display_data",
          "data": {
            "text/plain": [
              "<IPython.core.display.Javascript object>"
            ],
            "application/javascript": [
              "download(\"download_165677ed-2ef3-4cc3-bb11-ad970599a429\", \"readmission.labels.test\", 2212)"
            ]
          },
          "metadata": {}
        },
        {
          "output_type": "display_data",
          "data": {
            "text/plain": [
              "<IPython.core.display.Javascript object>"
            ],
            "application/javascript": [
              "\n",
              "    async function download(id, filename, size) {\n",
              "      if (!google.colab.kernel.accessAllowed) {\n",
              "        return;\n",
              "      }\n",
              "      const div = document.createElement('div');\n",
              "      const label = document.createElement('label');\n",
              "      label.textContent = `Downloading \"${filename}\": `;\n",
              "      div.appendChild(label);\n",
              "      const progress = document.createElement('progress');\n",
              "      progress.max = size;\n",
              "      div.appendChild(progress);\n",
              "      document.body.appendChild(div);\n",
              "\n",
              "      const buffers = [];\n",
              "      let downloaded = 0;\n",
              "\n",
              "      const channel = await google.colab.kernel.comms.open(id);\n",
              "      // Send a message to notify the kernel that we're ready.\n",
              "      channel.send({})\n",
              "\n",
              "      for await (const message of channel.messages) {\n",
              "        // Send a message to notify the kernel that we're ready.\n",
              "        channel.send({})\n",
              "        if (message.buffers) {\n",
              "          for (const buffer of message.buffers) {\n",
              "            buffers.push(buffer);\n",
              "            downloaded += buffer.byteLength;\n",
              "            progress.value = downloaded;\n",
              "          }\n",
              "        }\n",
              "      }\n",
              "      const blob = new Blob(buffers, {type: 'application/binary'});\n",
              "      const a = document.createElement('a');\n",
              "      a.href = window.URL.createObjectURL(blob);\n",
              "      a.download = filename;\n",
              "      div.appendChild(a);\n",
              "      a.click();\n",
              "      div.remove();\n",
              "    }\n",
              "  "
            ]
          },
          "metadata": {}
        },
        {
          "output_type": "display_data",
          "data": {
            "text/plain": [
              "<IPython.core.display.Javascript object>"
            ],
            "application/javascript": [
              "download(\"download_ab57af84-5705-4714-abcb-3afe049c16bf\", \"readmission.seqs.test\", 350241)"
            ]
          },
          "metadata": {}
        }
      ]
    }
  ]
}